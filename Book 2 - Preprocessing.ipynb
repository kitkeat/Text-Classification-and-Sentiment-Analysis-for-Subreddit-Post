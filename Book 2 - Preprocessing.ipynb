{
 "cells": [
  {
   "cell_type": "markdown",
   "metadata": {},
   "source": [
    "# Book 2 - Preprocessing\n",
    "\n",
    "---\n",
    "\n",
    "This project consist of 4 separate notebook:\n",
    "\n",
    "1. Book 1 - ProblemStatement & DataCollection \n",
    "2. Book 2 - Preprocessing\n",
    "3. Book 3 - Modelling & Evaluation Part 1 - Text Classification\n",
    "4. Book 4 - Modelling & Evaluation Part 2 - Sentiment Analysis\n",
    "\n",
    "- Following the extraction of raw data from subreddit, this book continue by pass the data into few preprocessing techniques before evaluation can be done on the next book."
   ]
  },
  {
   "cell_type": "markdown",
   "metadata": {},
   "source": [
    "## I. Data Dictionary\n",
    "\n",
    "|Feature|Type|Description|\n",
    "|---|---|---|\n",
    "|**subreddit**|*int*|  0 = r/DC_Cinematic, 1 = r/marvelstudios |\n",
    "|**author**|*object*| Author of the post |\n",
    "|**title_word_count**|*int*| Title word count for each post| \n",
    "|**title_length**|*int*| Title character length for each post | \n",
    "|**post**|*object*| Raw post | \n",
    "|**post_port_stemmed**|*object*| Post that have removed stop words & demojized and  gone through Porter Stemmer | \n",
    "|**post_snow_stemmed**|*object*| Post that have removed stop words & demojized and gone through Snowball Stemmer |  \n",
    "|**post_demojized_only**|*object*| Post that have only been demojized (convert emoji into string) |  \n",
    "|**post_unstemmed**|*object*| Post that have removed stop words & demojized|  "
   ]
  },
  {
   "cell_type": "markdown",
   "metadata": {},
   "source": [
    "## 1.0 Libraries Import\n",
    "\n",
    "---\n",
    "\n",
    "- run this code if this is the first time using nltk\n",
    "\n",
    "    <code>import nltk</code>\n",
    "    \n",
    "    <code>nltk.download()</code>"
   ]
  },
  {
   "cell_type": "code",
   "execution_count": 22,
   "metadata": {},
   "outputs": [],
   "source": [
    "import pandas as pd\n",
    "import matplotlib.pyplot as plt\n",
    "import seaborn as sns\n",
    "from nltk.tokenize import RegexpTokenizer\n",
    "from nltk.stem.porter import PorterStemmer\n",
    "from nltk.stem.snowball import SnowballStemmer\n",
    "from sklearn.feature_extraction.text import CountVectorizer\n",
    "from nltk.corpus import stopwords\n",
    "import demoji\n",
    "\n"
   ]
  },
  {
   "cell_type": "markdown",
   "metadata": {},
   "source": [
    "## 2.0 Data import\n",
    "\n",
    "---"
   ]
  },
  {
   "cell_type": "code",
   "execution_count": 23,
   "metadata": {},
   "outputs": [
    {
     "name": "stdout",
     "output_type": "stream",
     "text": [
      "Marvel data shape: (9993, 86)\n",
      "DC data shape: (9997, 86)\n"
     ]
    },
    {
     "name": "stderr",
     "output_type": "stream",
     "text": [
      "C:\\Users\\Tham Shi Yi\\AppData\\Local\\Temp\\ipykernel_19284\\99939564.py:2: DtypeWarning: Columns (82,83) have mixed types. Specify dtype option on import or set low_memory=False.\n",
      "  raw_dc_df = pd.read_csv('./data/raw_data_dc.csv')\n"
     ]
    }
   ],
   "source": [
    "raw_marvel_df = pd.read_csv('./data/raw_data_marvel.csv')\n",
    "raw_dc_df = pd.read_csv('./data/raw_data_dc.csv')\n",
    "print(f'Marvel data shape: {raw_marvel_df.shape}')\n",
    "print(f'DC data shape: {raw_dc_df.shape}')\n",
    "\n",
    "# Join data into a single dataframe\n",
    "main_df = pd.concat([raw_marvel_df,raw_dc_df],ignore_index=True)\n",
    "\n"
   ]
  },
  {
   "cell_type": "markdown",
   "metadata": {},
   "source": [
    "## 3.0 Data Cleaning\n",
    "\n",
    "---\n",
    "\n"
   ]
  },
  {
   "cell_type": "markdown",
   "metadata": {},
   "source": [
    "### 3.1 Remove redundant features\n",
    "\n",
    "- Feature 'selftext' shows a lot of null values"
   ]
  },
  {
   "cell_type": "code",
   "execution_count": 24,
   "metadata": {},
   "outputs": [],
   "source": [
    "# Remove unwanted columns\n",
    "main_df = main_df[['title','selftext','subreddit', 'author']]\n",
    "main_df.info()"
   ]
  },
  {
   "cell_type": "markdown",
   "metadata": {},
   "source": [
    "### 3.2 Transform response data to binary format"
   ]
  },
  {
   "cell_type": "code",
   "execution_count": 25,
   "metadata": {},
   "outputs": [
    {
     "name": "stdout",
     "output_type": "stream",
     "text": [
      "<class 'pandas.core.frame.DataFrame'>\n",
      "RangeIndex: 19990 entries, 0 to 19989\n",
      "Data columns (total 6 columns):\n",
      " #   Column        Non-Null Count  Dtype \n",
      "---  ------        --------------  ----- \n",
      " 0   title         19990 non-null  object\n",
      " 1   selftext      7764 non-null   object\n",
      " 2   subreddit     19990 non-null  int64 \n",
      " 3   num_comments  19990 non-null  int64 \n",
      " 4   created_utc   19990 non-null  int64 \n",
      " 5   author        19990 non-null  object\n",
      "dtypes: int64(3), object(3)\n",
      "memory usage: 937.2+ KB\n"
     ]
    }
   ],
   "source": [
    "# Transform response data to binary format\n",
    "main_df['subreddit'] = main_df['subreddit'].map({'DC_Cinematic':0,'marvelstudios':1})\n"
   ]
  },
  {
   "cell_type": "markdown",
   "metadata": {},
   "source": [
    "### 3.3 Remove duplicates\n",
    "\n"
   ]
  },
  {
   "cell_type": "code",
   "execution_count": 26,
   "metadata": {},
   "outputs": [
    {
     "name": "stdout",
     "output_type": "stream",
     "text": [
      "Duplicates:\n",
      "19207           \"Dove of Peace\" made by me on ProCreate :)\n",
      "19208           \"Dove of Peace\" made by me on ProCreate :)\n",
      "5096                         \"I'm Worthy... James Worthy.\"\n",
      "5848                         \"I'm Worthy... James Worthy.\"\n",
      "4875     \"Take these, Superman. They'll help your frien...\n",
      "Name: title, dtype: object\n",
      "\n",
      "Duplicate precentage:\n",
      "6.043021510755377%\n",
      "\n"
     ]
    }
   ],
   "source": [
    "# Check and remove for duplicates\n",
    "print(f\"Duplicates:\\n{main_df[main_df.duplicated(['title'], keep=False)].sort_values(['title'],ascending=True)['title'].head()}\\n\")\n",
    "duplicates = main_df[main_df.duplicated(['title'], keep=False)]\n",
    "print(f\"Duplicate precentage:\\n{duplicates['subreddit'].value_counts().sum()/main_df.shape[0]*100}%\\n\")\n",
    "main_df = main_df.drop_duplicates(['title'],keep='first').reset_index(drop=True)\n"
   ]
  },
  {
   "cell_type": "markdown",
   "metadata": {},
   "source": [
    "### 3.4 Null replacement"
   ]
  },
  {
   "cell_type": "code",
   "execution_count": 27,
   "metadata": {},
   "outputs": [
    {
     "name": "stdout",
     "output_type": "stream",
     "text": [
      "Sum of null: \n",
      "title           0\n",
      "selftext        0\n",
      "subreddit       0\n",
      "num_comments    0\n",
      "created_utc     0\n",
      "author          0\n",
      "dtype: int64\n"
     ]
    }
   ],
   "source": [
    "# Replace null with empty text\n",
    "main_df['selftext'] = main_df['selftext'].fillna('')\n",
    "print(f\"Sum of null: \\n{main_df.isnull().sum()}\")"
   ]
  },
  {
   "cell_type": "markdown",
   "metadata": {},
   "source": [
    "### 3.5 Preliminary EDA - Summary Statistics\n",
    "\n",
    "---\n",
    "\n"
   ]
  },
  {
   "cell_type": "markdown",
   "metadata": {},
   "source": [
    "#### 3.5.1 Unique Author\n",
    "\n",
    "- There are roughly 42% more unique user in r/marvelstudios than r/DC_Cinematics"
   ]
  },
  {
   "cell_type": "code",
   "execution_count": 36,
   "metadata": {},
   "outputs": [
    {
     "data": {
      "image/png": "[encoded data removed]",
      "text/plain": [
       "<Figure size 720x720 with 1 Axes>"
      ]
     },
     "metadata": {
      "needs_background": "light"
     },
     "output_type": "display_data"
    },
    {
     "name": "stdout",
     "output_type": "stream",
     "text": [
      "   author        subreddit\n",
      "1    6035  r/marvelstudios\n",
      "0    4229   r/DC_Cinematic\n"
     ]
    }
   ],
   "source": [
    "unique_author = pd.DataFrame(main_df.groupby('subreddit')['author'].nunique(),index=main_df['subreddit'].unique())\n",
    "unique_author['subreddit'] = ['r/marvelstudios','r/DC_Cinematic']\n",
    "plt.figure(figsize=(10,10))\n",
    "plt.title('No of Unique Author')\n",
    "sns.barplot(data = unique_author, x = 'subreddit',y = 'author')\n",
    "plt.ylabel('Count')\n",
    "plt.show();\n",
    "print(unique_author)"
   ]
  },
  {
   "cell_type": "markdown",
   "metadata": {},
   "source": [
    "#### 3.5.2 Word Count & Length Distribution\n",
    "\n",
    "- The title word count for both subreddits are very similar of 11 counts\n",
    "- The title length for both subreddits also shared the similar range with a length of 63~65"
   ]
  },
  {
   "cell_type": "code",
   "execution_count": 113,
   "metadata": {},
   "outputs": [
    {
     "data": {
      "image/png": "[encoded data removed]",
      "text/plain": [
       "<Figure size 1440x1080 with 4 Axes>"
      ]
     },
     "metadata": {
      "needs_background": "light"
     },
     "output_type": "display_data"
    }
   ],
   "source": [
    "# Create new columns to capture word cound and length\n",
    "main_df['title_word_count'] = main_df['title'].str.split().apply(len)\n",
    "main_df['title_length'] = main_df['title'].apply(len)\n",
    "\n",
    "# Mean value\n",
    "title_word_count_mean_dc = main_df[main_df['subreddit']==0]['title_word_count'].mean()\n",
    "title_length_mean_dc = main_df[main_df['subreddit']==0]['title_length'].mean()\n",
    "title_word_count_mean_marvel = main_df[main_df['subreddit']==1]['title_word_count'].mean()\n",
    "title_length_mean_marvel = main_df[main_df['subreddit']==1]['title_length'].mean()\n",
    "\n",
    "# Display\n",
    "fig, axs = plt.subplots(2, 2, figsize=(20,15))\n",
    "axs[0,0].title.set_text(f\"Title Word Count r/DC_Cinematic mean:{title_word_count_mean_dc}\")\n",
    "axs[0,1].title.set_text(f\"Title Length r/DC_Cinematic mean:{title_length_mean_dc}\")\n",
    "axs[1,0].title.set_text(f\"Title Word Count r/marvelstudios mean:{title_word_count_mean_marvel}\")\n",
    "axs[1,1].title.set_text(f\"Title Length r/marvelstudios mean:{title_length_mean_marvel}\")\n",
    "sns.histplot(data= main_df[main_df['subreddit']==0],x='title_word_count', ax=axs[0,0])\n",
    "sns.histplot(data= main_df[main_df['subreddit']==0],x='title_length',color='orange', ax=axs[0,1])\n",
    "sns.histplot(data= main_df[main_df['subreddit']==1],x='title_word_count', ax=axs[1,0])\n",
    "sns.histplot(data= main_df[main_df['subreddit']==1],x='title_length',color ='orange', ax=axs[1,1])\n",
    "axs[0,0].axvline(x=title_word_count_mean_dc, c='k', ls='--', lw=2.5)\n",
    "axs[0,1].axvline(x=title_length_mean_dc, c='k', ls='--', lw=2.5)\n",
    "axs[1,0].axvline(x=title_word_count_mean_marvel, c='k', ls='--', lw=2.5)\n",
    "axs[1,1].axvline(x=title_length_mean_marvel, c='k', ls='--', lw=2.5)\n",
    "plt.show()"
   ]
  },
  {
   "cell_type": "code",
   "execution_count": 114,
   "metadata": {},
   "outputs": [
    {
     "data": {
      "text/html": [
       "<div>\n",
       "<style scoped>\n",
       "    .dataframe tbody tr th:only-of-type {\n",
       "        vertical-align: middle;\n",
       "    }\n",
       "\n",
       "    .dataframe tbody tr th {\n",
       "        vertical-align: top;\n",
       "    }\n",
       "\n",
       "    .dataframe thead th {\n",
       "        text-align: right;\n",
       "    }\n",
       "</style>\n",
       "<table border=\"1\" class=\"dataframe\">\n",
       "  <thead>\n",
       "    <tr style=\"text-align: right;\">\n",
       "      <th></th>\n",
       "      <th>mean title_word_count</th>\n",
       "      <th>mean title_length</th>\n",
       "    </tr>\n",
       "  </thead>\n",
       "  <tbody>\n",
       "    <tr>\n",
       "      <th>r/DC_Cinematic</th>\n",
       "      <td>11.661529</td>\n",
       "      <td>65.007551</td>\n",
       "    </tr>\n",
       "    <tr>\n",
       "      <th>r/marvelstudios</th>\n",
       "      <td>11.296362</td>\n",
       "      <td>63.021250</td>\n",
       "    </tr>\n",
       "  </tbody>\n",
       "</table>\n",
       "</div>"
      ],
      "text/plain": [
       "                 mean title_word_count  mean title_length\n",
       "r/DC_Cinematic               11.661529          65.007551\n",
       "r/marvelstudios              11.296362          63.021250"
      ]
     },
     "execution_count": 114,
     "metadata": {},
     "output_type": "execute_result"
    }
   ],
   "source": [
    "# Show mean value of title word count and length\n",
    "word_count_length = [{'mean title_word_count':title_word_count_mean_dc,\n",
    "                                        'mean title_length':title_length_mean_dc\n",
    "                                        },\n",
    "                     {'mean title_word_count':title_word_count_mean_marvel,\n",
    "                                        'mean title_length':title_length_mean_marvel}]\n",
    "pd.DataFrame(word_count_length,index=['r/DC_Cinematic','r/marvelstudios'])"
   ]
  },
  {
   "cell_type": "markdown",
   "metadata": {},
   "source": [
    "### 3.6 Feature Engineering\n",
    "\n",
    "- Sometimes the author will include more words in the 'selftext' section which gives more context on the post itself, therefore it is merged together with the \"title\" feature to form a new feature called \"post\""
   ]
  },
  {
   "cell_type": "code",
   "execution_count": 115,
   "metadata": {},
   "outputs": [
    {
     "name": "stdout",
     "output_type": "stream",
     "text": [
      "Number of empty post: 0\n"
     ]
    }
   ],
   "source": [
    "# Merge title and selftext\n",
    "main_df['post'] = main_df['title'] + ' ' + main_df['selftext']\n",
    "print(f\"Number of empty post: {len(main_df.loc[main_df['post']=='',:])}\")\n",
    "\n",
    "# Drop redundant columns\n",
    "main_df = main_df.drop(columns=['title','selftext'])"
   ]
  },
  {
   "cell_type": "markdown",
   "metadata": {},
   "source": [
    "### 3.7 Tokenizing & Demojizing\n",
    "\n",
    "- All the words are de-capitalized.\n",
    "\n",
    "- <code>Demoji</code> function is used to convert the emoji icon into strings, so as to retain the context of the post, which will be very beneficial for sentiment analysis.\n",
    "\n",
    "- <code>RegexpTokenizer</code> was then used to tokenize the post to remove non-latin words\n",
    "\n",
    "- The regular expression and demoji helps to remove outliers present in the data"
   ]
  },
  {
   "cell_type": "code",
   "execution_count": 116,
   "metadata": {},
   "outputs": [],
   "source": [
    "# Demojized and Tokenized data with regex\n",
    "X = main_df['post']\n",
    "regex_tokenizer = RegexpTokenizer('[A-Za-z]\\w+')\n",
    "tokens = [regex_tokenizer.tokenize(demoji.replace_with_desc(word.lower())) for word in X]"
   ]
  },
  {
   "cell_type": "markdown",
   "metadata": {},
   "source": [
    "### 3.8 Stop words removal\n",
    "\n",
    "- Additional common words that does not have much contexts were added on top of the default stopwords available in <code>nlth.corpus"
   ]
  },
  {
   "cell_type": "code",
   "execution_count": 117,
   "metadata": {},
   "outputs": [
    {
     "name": "stdout",
     "output_type": "stream",
     "text": [
      "['i', 'me', 'my', 'myself', 'we', 'our', 'ours', 'ourselves', 'you', \"you're\", \"you've\", \"you'll\", \"you'd\", 'your', 'yours', 'yourself', 'yourselves', 'he', 'him', 'his', 'himself', 'she', \"she's\", 'her', 'hers', 'herself', 'it', \"it's\", 'its', 'itself', 'they', 'them', 'their', 'theirs', 'themselves', 'what', 'which', 'who', 'whom', 'this', 'that', \"that'll\", 'these', 'those', 'am', 'is', 'are', 'was', 'were', 'be', 'been', 'being', 'have', 'has', 'had', 'having', 'do', 'does', 'did', 'doing', 'a', 'an', 'the', 'and', 'but', 'if', 'or', 'because', 'as', 'until', 'while', 'of', 'at', 'by', 'for', 'with', 'about', 'against', 'between', 'into', 'through', 'during', 'before', 'after', 'above', 'below', 'to', 'from', 'up', 'down', 'in', 'out', 'on', 'off', 'over', 'under', 'again', 'further', 'then', 'once', 'here', 'there', 'when', 'where', 'why', 'how', 'all', 'any', 'both', 'each', 'few', 'more', 'most', 'other', 'some', 'such', 'no', 'nor', 'not', 'only', 'own', 'same', 'so', 'than', 'too', 'very', 's', 't', 'can', 'will', 'just', 'don', \"don't\", 'should', \"should've\", 'now', 'd', 'll', 'm', 'o', 're', 've', 'y', 'ain', 'aren', \"aren't\", 'couldn', \"couldn't\", 'didn', \"didn't\", 'doesn', \"doesn't\", 'hadn', \"hadn't\", 'hasn', \"hasn't\", 'haven', \"haven't\", 'isn', \"isn't\", 'ma', 'mightn', \"mightn't\", 'mustn', \"mustn't\", 'needn', \"needn't\", 'shan', \"shan't\", 'shouldn', \"shouldn't\", 'wasn', \"wasn't\", 'weren', \"weren't\", 'won', \"won't\", 'wouldn', \"wouldn't\", 'removed', 'www', 'http', 'https', 'poll', 'reddit', 'subreddit', 'twitter', 'com']\n"
     ]
    }
   ],
   "source": [
    "# De-StopWord :D\n",
    "stopw = stopwords.words('english')\n",
    "stopw.append('removed')\n",
    "stopw.append('www')\n",
    "stopw.append('http')\n",
    "stopw.append('https')\n",
    "stopw.append('poll')\n",
    "stopw.append('reddit')\n",
    "stopw.append('subreddit')\n",
    "stopw.append('twitter')\n",
    "stopw.append('com')\n",
    "\n",
    "print(stopw)\n",
    "no_stop_words = [[word for word in token if word not in stopw] for token in tokens]\n"
   ]
  },
  {
   "cell_type": "markdown",
   "metadata": {},
   "source": [
    "### 3.9 Stemming\n",
    "\n",
    "Running two types of stemming method:\n",
    "1. <code>Porter Stemmer</code>\n",
    "2. <code>Snowball Stemmer</code>"
   ]
  },
  {
   "cell_type": "code",
   "execution_count": 118,
   "metadata": {},
   "outputs": [],
   "source": [
    "port_stemmer = PorterStemmer()\n",
    "snow_stemmer = SnowballStemmer(language='english')\n",
    "corpus_port_stemmed = []\n",
    "corpus_snow_stemmed = []\n",
    "corpus_unstemmed = []\n",
    "corpus_demojized_only = []\n",
    "\n",
    "# Append words into different list based on different preprocess\n",
    "for word in no_stop_words:\n",
    "    corpus_port_stemmed.append(\" \".join([port_stemmer.stem(item) for item in word]))\n",
    "    corpus_snow_stemmed.append(\" \".join([snow_stemmer.stem(item) for item in word]))\n",
    "    corpus_unstemmed.append(\" \".join([item for item in word]))\n",
    "for token in tokens:\n",
    "    corpus_demojized_only.append(\" \".join([item for item in token]))\n"
   ]
  },
  {
   "cell_type": "code",
   "execution_count": 119,
   "metadata": {},
   "outputs": [],
   "source": [
    "    \n",
    "# Create new column to compare before and after stemmed words\n",
    "main_df['post_port_stemmed'] = pd.DataFrame(corpus_port_stemmed)\n",
    "main_df['post_snow_stemmed'] = pd.DataFrame(corpus_snow_stemmed)\n",
    "main_df['post_unstemmed'] = pd.DataFrame(corpus_unstemmed)\n",
    "main_df['post_demojized_only'] = pd.DataFrame(corpus_demojized_only)"
   ]
  },
  {
   "cell_type": "markdown",
   "metadata": {},
   "source": [
    "### 3.10 Check cleaned data"
   ]
  },
  {
   "cell_type": "markdown",
   "metadata": {},
   "source": [
    "#### 3.10.1 Result of Demoji\n",
    "\n",
    "- Emoji was succesfully converted to string text"
   ]
  },
  {
   "cell_type": "code",
   "execution_count": 120,
   "metadata": {},
   "outputs": [
    {
     "data": {
      "text/html": [
       "<div>\n",
       "<style scoped>\n",
       "    .dataframe tbody tr th:only-of-type {\n",
       "        vertical-align: middle;\n",
       "    }\n",
       "\n",
       "    .dataframe tbody tr th {\n",
       "        vertical-align: top;\n",
       "    }\n",
       "\n",
       "    .dataframe thead th {\n",
       "        text-align: right;\n",
       "    }\n",
       "</style>\n",
       "<table border=\"1\" class=\"dataframe\">\n",
       "  <thead>\n",
       "    <tr style=\"text-align: right;\">\n",
       "      <th></th>\n",
       "      <th>subreddit</th>\n",
       "      <th>num_comments</th>\n",
       "      <th>created_utc</th>\n",
       "      <th>author</th>\n",
       "      <th>title_word_count</th>\n",
       "      <th>title_length</th>\n",
       "      <th>post</th>\n",
       "      <th>post_port_stemmed</th>\n",
       "      <th>post_snow_stemmed</th>\n",
       "      <th>post_unstemmed</th>\n",
       "      <th>post_demojized_only</th>\n",
       "    </tr>\n",
       "  </thead>\n",
       "  <tbody>\n",
       "    <tr>\n",
       "      <th>18719</th>\n",
       "      <td>0</td>\n",
       "      <td>10</td>\n",
       "      <td>1645822994</td>\n",
       "      <td>_pixel_perfect_</td>\n",
       "      <td>1</td>\n",
       "      <td>4</td>\n",
       "      <td>🧜‍♂️</td>\n",
       "      <td>merman</td>\n",
       "      <td>merman</td>\n",
       "      <td>merman</td>\n",
       "      <td>merman</td>\n",
       "    </tr>\n",
       "    <tr>\n",
       "      <th>17216</th>\n",
       "      <td>0</td>\n",
       "      <td>0</td>\n",
       "      <td>1646757986</td>\n",
       "      <td>mes05</td>\n",
       "      <td>1</td>\n",
       "      <td>1</td>\n",
       "      <td>🧐</td>\n",
       "      <td>face monocl</td>\n",
       "      <td>face monocl</td>\n",
       "      <td>face monocle</td>\n",
       "      <td>face with monocle</td>\n",
       "    </tr>\n",
       "    <tr>\n",
       "      <th>12220</th>\n",
       "      <td>0</td>\n",
       "      <td>0</td>\n",
       "      <td>1651641585</td>\n",
       "      <td>ConfusionNo4269</td>\n",
       "      <td>1</td>\n",
       "      <td>6</td>\n",
       "      <td>🦸🏻‍♂️🐐</td>\n",
       "      <td>man superhero light skin tone goat</td>\n",
       "      <td>man superhero light skin tone goat</td>\n",
       "      <td>man superhero light skin tone goat</td>\n",
       "      <td>man superhero light skin tone goat</td>\n",
       "    </tr>\n",
       "    <tr>\n",
       "      <th>14733</th>\n",
       "      <td>0</td>\n",
       "      <td>0</td>\n",
       "      <td>1648752406</td>\n",
       "      <td>ConfusionNo4269</td>\n",
       "      <td>1</td>\n",
       "      <td>2</td>\n",
       "      <td>🦇📸</td>\n",
       "      <td>bat camera flash</td>\n",
       "      <td>bat camera flash</td>\n",
       "      <td>bat camera flash</td>\n",
       "      <td>bat camera with flash</td>\n",
       "    </tr>\n",
       "    <tr>\n",
       "      <th>12523</th>\n",
       "      <td>0</td>\n",
       "      <td>0</td>\n",
       "      <td>1651257559</td>\n",
       "      <td>ConfusionNo4269</td>\n",
       "      <td>1</td>\n",
       "      <td>2</td>\n",
       "      <td>🦇🐐</td>\n",
       "      <td>bat goat</td>\n",
       "      <td>bat goat</td>\n",
       "      <td>bat goat</td>\n",
       "      <td>bat goat</td>\n",
       "    </tr>\n",
       "  </tbody>\n",
       "</table>\n",
       "</div>"
      ],
      "text/plain": [
       "       subreddit  num_comments  created_utc           author  \\\n",
       "18719          0            10   1645822994  _pixel_perfect_   \n",
       "17216          0             0   1646757986            mes05   \n",
       "12220          0             0   1651641585  ConfusionNo4269   \n",
       "14733          0             0   1648752406  ConfusionNo4269   \n",
       "12523          0             0   1651257559  ConfusionNo4269   \n",
       "\n",
       "       title_word_count  title_length     post  \\\n",
       "18719                 1             4    🧜‍♂️    \n",
       "17216                 1             1       🧐    \n",
       "12220                 1             6  🦸🏻‍♂️🐐    \n",
       "14733                 1             2      🦇📸    \n",
       "12523                 1             2      🦇🐐    \n",
       "\n",
       "                        post_port_stemmed                   post_snow_stemmed  \\\n",
       "18719                              merman                              merman   \n",
       "17216                         face monocl                         face monocl   \n",
       "12220  man superhero light skin tone goat  man superhero light skin tone goat   \n",
       "14733                    bat camera flash                    bat camera flash   \n",
       "12523                            bat goat                            bat goat   \n",
       "\n",
       "                           post_unstemmed                 post_demojized_only  \n",
       "18719                              merman                              merman  \n",
       "17216                        face monocle                   face with monocle  \n",
       "12220  man superhero light skin tone goat  man superhero light skin tone goat  \n",
       "14733                    bat camera flash               bat camera with flash  \n",
       "12523                            bat goat                            bat goat  "
      ]
     },
     "execution_count": 120,
     "metadata": {},
     "output_type": "execute_result"
    }
   ],
   "source": [
    "# Emoji sentiment retained\n",
    "main_df.sort_values('post',ascending=False).head(5)"
   ]
  },
  {
   "cell_type": "markdown",
   "metadata": {},
   "source": [
    "#### 3.10.2 Empty post after preprocessing\n",
    "\n",
    "- After stemming and stop word removal, it resulted in having some post without any strings. These post are then removed."
   ]
  },
  {
   "cell_type": "code",
   "execution_count": 121,
   "metadata": {},
   "outputs": [
    {
     "name": "stdout",
     "output_type": "stream",
     "text": [
      "Number of empty porter stemmed post in subreddit DC (before): 35\n",
      "Number of empty porter stemmed post in subreddit Marvel (before): 38\n",
      "\n",
      "Number of empty snowball stemmed post in subreddit DC (before): 35\n",
      "Number of empty snowball stemmed post in subreddit Marvel (before): 38\n",
      "\n"
     ]
    }
   ],
   "source": [
    "# Check for amount of empty post after preprocesssing\n",
    "print(f\"Number of empty porter stemmed post in subreddit DC (before): {main_df.loc[(main_df['post_port_stemmed']=='')& (main_df['subreddit']==0),:].shape[0]}\")\n",
    "print(f\"Number of empty porter stemmed post in subreddit Marvel (before): {main_df.loc[(main_df['post_port_stemmed']=='')& (main_df['subreddit']==1),:].shape[0]}\\n\")\n",
    "print(f\"Number of empty snowball stemmed post in subreddit DC (before): {main_df.loc[(main_df['post_snow_stemmed']=='')& (main_df['subreddit']==0),:].shape[0]}\")\n",
    "print(f\"Number of empty snowball stemmed post in subreddit Marvel (before): {main_df.loc[(main_df['post_snow_stemmed']=='')& (main_df['subreddit']==1),:].shape[0]}\\n\")"
   ]
  },
  {
   "cell_type": "code",
   "execution_count": 122,
   "metadata": {},
   "outputs": [
    {
     "name": "stdout",
     "output_type": "stream",
     "text": [
      "Number of empty porter stemmed post (after): 0\n",
      "Number of empty snowball stemmed post (after): 0\n",
      "Subreddit value count after dropping blank post: \n",
      "0    9632\n",
      "1    9609\n",
      "Name: subreddit, dtype: int64\n",
      "\n"
     ]
    }
   ],
   "source": [
    "# Drop columns with blank posts\n",
    "main_df = main_df.drop(index=main_df.loc[(main_df['post_port_stemmed']=='') | (main_df['post_snow_stemmed']==''),:].index)\n",
    "print(f\"Number of empty porter stemmed post (after): {main_df[main_df['post_port_stemmed']==''].shape[0]}\")\n",
    "print(f\"Number of empty snowball stemmed post (after): {main_df[main_df['post_snow_stemmed']==''].shape[0]}\")\n",
    "print(f\"Subreddit value count after dropping blank post: \\n{main_df['subreddit'].value_counts()}\\n\")"
   ]
  },
  {
   "cell_type": "markdown",
   "metadata": {},
   "source": [
    "## 4.0 Post-Cleaning EDA\n",
    "\n",
    "---\n",
    "\n",
    "- Bi-grams gave a better representative of the top topic discussed in each subreddit\n",
    "\n",
    "- The result from top common words found in the subreddit post, I was able to identify meaningful words and sentence. The top words/sentences shows the name of the superheroes.\n",
    "\n",
    "- The common words reflects the recent new movies that was launched indicating there are a lot of recent post and the subreddit is active.\n"
   ]
  },
  {
   "cell_type": "code",
   "execution_count": 123,
   "metadata": {},
   "outputs": [],
   "source": [
    "# Function to show common words in different n-grams using countvectorizer\n",
    "def common_word_plot(min_df,n_gram,plot_title,dataframe,feature,subreddit):\n",
    "    cvec = CountVectorizer(min_df=min_df,ngram_range=(n_gram,n_gram))\n",
    "    cvec_data = cvec.fit_transform(dataframe[feature])\n",
    "    cvec_df = pd.DataFrame(cvec_data.todense(),columns=cvec.get_feature_names())\n",
    "    cvec_df['subreddit'] = dataframe['subreddit']\n",
    "    \n",
    "    print(f\"Shape: {cvec_df.shape}\")\n",
    "    plt.figure(figsize=(10,7))\n",
    "    top_word = cvec_df.loc[cvec_df['subreddit']==subreddit].drop(columns='subreddit').sum().sort_values(ascending=False).head(15)\n",
    "    temp_df = pd.DataFrame(top_word,columns=['count'])\n",
    "    sns.barplot( x=temp_df['count'],y=temp_df.index)\n",
    "    plt.title(plot_title)\n",
    "    plt.xlabel(\"Count\")\n",
    "    plt.ylabel(\"Word\")\n",
    "    plt.show();\n",
    "    return"
   ]
  },
  {
   "cell_type": "markdown",
   "metadata": {},
   "source": [
    "### 4.1 Common word in r/DC_Cinematic post\n",
    "\n",
    "- The word <span style=\"color:red\">*batman*</span> has a siginificant high count in the posts. This can be due to the new movie \"The Batman\", which was release recently. <span style=\"color:red\">*dark knight*</span> is also a reference to batman.\n",
    "- <span style=\"color:red\">*Black Adam*</span> is an upcoming movie which just released it's trailer few weeks agon on 8th June 2022.\n",
    "- <span style=\"color:red\">*Ezra Miller*</span> was the actor for the superhero character called <span style=\"color:red\">*Flash*</span> which has a lot of rumor circulating in the news at the moment.\n",
    "- <span style=\"color:red\">*Wonder woman*</span> is a successful DC_Cinematic film\n",
    "\n"
   ]
  },
  {
   "cell_type": "code",
   "execution_count": 124,
   "metadata": {},
   "outputs": [
    {
     "name": "stdout",
     "output_type": "stream",
     "text": [
      "Shape: (19241, 660)\n"
     ]
    },
    {
     "data": {
      "image/png": "[encoded data removed]",
      "text/plain": [
       "<Figure size 720x504 with 1 Axes>"
      ]
     },
     "metadata": {
      "needs_background": "light"
     },
     "output_type": "display_data"
    },
    {
     "name": "stdout",
     "output_type": "stream",
     "text": [
      "Shape: (19241, 74)\n"
     ]
    },
    {
     "data": {
      "image/png": "[encoded data removed]",
      "text/plain": [
       "<Figure size 720x504 with 1 Axes>"
      ]
     },
     "metadata": {
      "needs_background": "light"
     },
     "output_type": "display_data"
    }
   ],
   "source": [
    "common_word_plot(100,1,'r/DC_Cinematic Top Uni-grams',main_df,'post_snow_stemmed',0)\n",
    "common_word_plot(100,2,'r/DC_Cinematic Top Bi-grams',main_df,'post_snow_stemmed',0)"
   ]
  },
  {
   "cell_type": "markdown",
   "metadata": {},
   "source": [
    "### 4.1 Common word in r/marvelstudios post\n",
    "\n",
    "- <span style=\"color:red\">*ms marvel*</span> is a new series that was released on 8 June 2022, which has received a lot of attention in the internet.\n",
    "- <span style=\"color:red\">*spider man, doctor strange & moon knight*</span> are recent movies and tv series.\n"
   ]
  },
  {
   "cell_type": "code",
   "execution_count": 125,
   "metadata": {},
   "outputs": [
    {
     "name": "stdout",
     "output_type": "stream",
     "text": [
      "Shape: (19241, 660)\n"
     ]
    },
    {
     "data": {
      "image/png": "[encoded data removed]",
      "text/plain": [
       "<Figure size 720x504 with 1 Axes>"
      ]
     },
     "metadata": {
      "needs_background": "light"
     },
     "output_type": "display_data"
    },
    {
     "name": "stdout",
     "output_type": "stream",
     "text": [
      "Shape: (19241, 74)\n"
     ]
    },
    {
     "data": {
      "image/png": "[encoded data removed]",
      "text/plain": [
       "<Figure size 720x504 with 1 Axes>"
      ]
     },
     "metadata": {
      "needs_background": "light"
     },
     "output_type": "display_data"
    }
   ],
   "source": [
    "common_word_plot(100,1,'r/marvelstudios Top Uni-grams',main_df,'post_snow_stemmed',1)\n",
    "common_word_plot(100,2,'r/marvelstudios Top Bi-grams',main_df,'post_snow_stemmed',1)"
   ]
  },
  {
   "cell_type": "markdown",
   "metadata": {},
   "source": [
    "- The top uni-gram and bi-gram were able to pickup important features that are related to the r/DC_Cinematic & r/marvelstudios, which is a good data to train a classification model for these two subreddit.\n",
    "\n",
    "- Bi-grams was shown to have a better results to read the name of the superhero character. This is because most of the characters are more than a word"
   ]
  },
  {
   "cell_type": "markdown",
   "metadata": {},
   "source": [
    "## 5.0 Save Data"
   ]
  },
  {
   "cell_type": "code",
   "execution_count": null,
   "metadata": {},
   "outputs": [],
   "source": [
    "pd.DataFrame.to_csv(main_df,'./data/main_data.csv',index_label='index')"
   ]
  },
  {
   "cell_type": "code",
   "execution_count": null,
   "metadata": {},
   "outputs": [],
   "source": [
    "main_df.shape"
   ]
  },
  {
   "cell_type": "markdown",
   "metadata": {},
   "source": [
    "---\n",
    "\n",
    "# End of Book 2\n",
    "\n",
    "The next book will continue with vectorization of the posts and modelling."
   ]
  }
 ],
 "metadata": {
  "kernelspec": {
   "display_name": "Python 3.8.13 ('dsi-sg')",
   "language": "python",
   "name": "python3"
  },
  "language_info": {
   "codemirror_mode": {
    "name": "ipython",
    "version": 3
   },
   "file_extension": ".py",
   "mimetype": "text/x-python",
   "name": "python",
   "nbconvert_exporter": "python",
   "pygments_lexer": "ipython3",
   "version": "3.8.13"
  },
  "orig_nbformat": 4,
  "vscode": {
   "interpreter": {
    "hash": "9f8da1e1bd357d59a3b66de042951529b522660e89c8368a5e504d03fc911be3"
   }
  }
 },
 "nbformat": 4,
 "nbformat_minor": 2
}
