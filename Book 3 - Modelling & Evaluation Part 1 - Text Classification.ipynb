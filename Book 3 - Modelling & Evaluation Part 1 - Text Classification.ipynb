{
 "cells": [
  {
   "cell_type": "markdown",
   "metadata": {},
   "source": [
    "# Book 3: Modelling & Evaluation Part 1 - Text Classification\n",
    "\n",
    "---\n",
    "This project consist of 4 separate notebook:\n",
    "\n",
    "1. Book 1 - ProblemStatement & DataCollection \n",
    "2. Book 2 - Preprocessing\n",
    "3. Book 3 - Modelling & Evaluation Part 1 - Text Classification\n",
    "4. Book 4 - Modelling & Evaluation Part 2 - Sentiment Analysis\n",
    "\n",
    "This book focus in modelling and evaluating the scores to determine the best performer as the production model."
   ]
  },
  {
   "cell_type": "markdown",
   "metadata": {},
   "source": [
    "## 1.0 Libraries Import\n",
    "\n",
    "---\n",
    "\n"
   ]
  },
  {
   "cell_type": "code",
   "execution_count": 1,
   "metadata": {},
   "outputs": [],
   "source": [
    "import pandas as pd\n",
    "import numpy as np\n",
    "import matplotlib.pyplot as plt\n",
    "import seaborn as sns\n",
    "import pickle\n",
    "from sklearn.model_selection import cross_val_score\n",
    "from sklearn.feature_extraction.text import CountVectorizer, TfidfVectorizer\n",
    "from sklearn.model_selection import train_test_split, GridSearchCV\n",
    "from sklearn.naive_bayes import MultinomialNB\n",
    "from sklearn.linear_model import LogisticRegression \n",
    "from sklearn.pipeline import Pipeline\n",
    "from sklearn.ensemble import RandomForestClassifier\n",
    "from pycaret.classification import *\n"
   ]
  },
  {
   "cell_type": "markdown",
   "metadata": {},
   "source": [
    "## 2.0 Data Import\n",
    "\n",
    "---"
   ]
  },
  {
   "cell_type": "code",
   "execution_count": 2,
   "metadata": {},
   "outputs": [
    {
     "name": "stdout",
     "output_type": "stream",
     "text": [
      "Data shape: (19241, 12)\n",
      "<class 'pandas.core.frame.DataFrame'>\n",
      "RangeIndex: 19241 entries, 0 to 19240\n",
      "Data columns (total 12 columns):\n",
      " #   Column               Non-Null Count  Dtype \n",
      "---  ------               --------------  ----- \n",
      " 0   index                19241 non-null  int64 \n",
      " 1   subreddit            19241 non-null  int64 \n",
      " 2   num_comments         19241 non-null  int64 \n",
      " 3   created_utc          19241 non-null  int64 \n",
      " 4   author               19241 non-null  object\n",
      " 5   title_word_count     19241 non-null  int64 \n",
      " 6   title_length         19241 non-null  int64 \n",
      " 7   post                 19241 non-null  object\n",
      " 8   post_port_stemmed    19241 non-null  object\n",
      " 9   post_snow_stemmed    19241 non-null  object\n",
      " 10  post_unstemmed       19241 non-null  object\n",
      " 11  post_demojized_only  19241 non-null  object\n",
      "dtypes: int64(6), object(6)\n",
      "memory usage: 1.8+ MB\n"
     ]
    }
   ],
   "source": [
    "main_df = pd.read_csv('./data/main_data.csv')\n",
    "print(f\"Data shape: {main_df.shape}\")\n",
    "main_df.info()"
   ]
  },
  {
   "cell_type": "markdown",
   "metadata": {},
   "source": [
    "## 3.0 Text Classification Modelling\n",
    "\n",
    "---"
   ]
  },
  {
   "cell_type": "markdown",
   "metadata": {},
   "source": [
    "### 3.1 Feature and Response Separation & Train/Test Split\n",
    "\n",
    "- Two Train/Test Split data were created using Snowball Stemmed and Porter Stemmed data for performance comparison\n",
    "- The best performer will be subsequently used for modelling"
   ]
  },
  {
   "cell_type": "markdown",
   "metadata": {},
   "source": [
    "#### 3.1.1 Train/Test Split with Snowball Stemmed Data"
   ]
  },
  {
   "cell_type": "code",
   "execution_count": 3,
   "metadata": {},
   "outputs": [],
   "source": [
    "# Feature and response separation\n",
    "X = main_df['post_snow_stemmed']\n",
    "y = main_df['subreddit']\n",
    "\n",
    "# Split the data into the training and testing sets.\n",
    "X_train, X_test, y_train, y_test = train_test_split(X,\n",
    "                                                    y,\n",
    "                                                    test_size=0.2,\n",
    "                                                    stratify=y,\n",
    "                                                    random_state=42)"
   ]
  },
  {
   "cell_type": "markdown",
   "metadata": {},
   "source": [
    "#### 3.1.2 Train/Test Split with Porter Stemmed Data"
   ]
  },
  {
   "cell_type": "code",
   "execution_count": 4,
   "metadata": {},
   "outputs": [],
   "source": [
    "# Feature and response separation\n",
    "X_port = main_df['post_port_stemmed']\n",
    "y_port = main_df['subreddit']\n",
    "\n",
    "# Split the data into the training and testing sets.\n",
    "X_port_train, X_port_test, y_port_train, y_port_test = train_test_split(X_port,\n",
    "                                                    y_port,\n",
    "                                                    test_size=0.2,\n",
    "                                                    stratify=y,\n",
    "                                                    random_state=42)"
   ]
  },
  {
   "cell_type": "markdown",
   "metadata": {},
   "source": [
    "### 3.2 Baseline Model\n",
    "\n",
    "- Multinomial with countvectorizer was used as the baseline model\n",
    "- Minimum document frequency was set to 100 to reduce the features\n",
    "- Accuracy score was used because the response has a balance set of data between the classes.\n",
    "- The baseline will run twice, once with porter stemmer and another with snowball stemmer to compare the result.\n",
    "- Both stemmer produced similar results, therefore, Porter stemmer, being the older version was dropped."
   ]
  },
  {
   "cell_type": "markdown",
   "metadata": {},
   "source": [
    "#### 3.2.1 Multinomial Naive Bayes with Snowball Stemmer"
   ]
  },
  {
   "cell_type": "code",
   "execution_count": 5,
   "metadata": {},
   "outputs": [
    {
     "name": "stdout",
     "output_type": "stream",
     "text": [
      "Train data shape: (15392, 538)\n",
      "Test data shape: (3849, 538)\n",
      "Train data accuracy score: 0.8731808731808732\n",
      "Train data cross-validation score: 0.8715563583275246\n",
      "Test score: 0.8719147830605352\n"
     ]
    }
   ],
   "source": [
    "# Initialize countvectorizer\n",
    "cvec = CountVectorizer(min_df=100)\n",
    "\n",
    "# X_train data is fitted and transfromed using the countvectorizer\n",
    "X_train_cvec = pd.DataFrame(\n",
    "                            cvec.fit_transform(X_train).todense(),\n",
    "                            columns = cvec.get_feature_names()\n",
    "                            )\n",
    "# X_test will be transformed using the countvectorizer.\n",
    "# Any new words that are found in the test data set will not be included.\n",
    "X_test_cvec = pd.DataFrame(\n",
    "                            cvec.transform(X_test).todense(),\n",
    "                            columns = cvec.get_feature_names()\n",
    "                            )\n",
    "\n",
    "print(f'Train data shape: {X_train_cvec.shape}')\n",
    "print(f'Test data shape: {X_test_cvec.shape}')\n",
    "\n",
    "# Initialize Multinomial Naive Bayes as the baseline model\n",
    "baseline_nb = MultinomialNB()\n",
    "\n",
    "# Fit the model\n",
    "baseline_nb_model = baseline_nb.fit(X_train_cvec, y_train)\n",
    "\n",
    "# Generate prediction\n",
    "y_pred_nb = baseline_nb.predict(X_test_cvec)\n",
    "\n",
    "# Score our model on the training set\n",
    "print(f'Train data accuracy score: {baseline_nb_model.score(X_train_cvec, y_train)}')\n",
    "print(f'Train data cross-validation score: {cross_val_score(baseline_nb, X_train_cvec,y_train, cv = 5).mean()}')\n",
    "print(f'Test score: {baseline_nb_model.score(X_test_cvec, y_test)}')"
   ]
  },
  {
   "cell_type": "markdown",
   "metadata": {},
   "source": [
    "#### 3.2.2 Multinomial Naive Bayes with Porter Stemmer"
   ]
  },
  {
   "cell_type": "code",
   "execution_count": 17,
   "metadata": {},
   "outputs": [
    {
     "name": "stdout",
     "output_type": "stream",
     "text": [
      "Train data shape: (15392, 530)\n",
      "Test data shape: (3849, 530)\n",
      "Train data accuracy score: 0.8734407484407485\n",
      "Train data cross-validation score: 0.8714264882250614\n",
      "Test score: 0.8719147830605352\n"
     ]
    }
   ],
   "source": [
    "# Initialize countvectorizer\n",
    "cvec = CountVectorizer(min_df=100)\n",
    "\n",
    "# X_train data is fitted and transfromed using the countvectorizer\n",
    "X_train_cvec = pd.DataFrame(\n",
    "                            cvec.fit_transform(X_port_train).todense(),\n",
    "                            columns = cvec.get_feature_names()\n",
    "                            )\n",
    "# X_test will be transformed using the countvectorizer.\n",
    "# Any new words that are found in the test data set will not be included.\n",
    "X_test_cvec = pd.DataFrame(\n",
    "                            cvec.transform(X_port_test).todense(),\n",
    "                            columns = cvec.get_feature_names()\n",
    "                            )\n",
    "\n",
    "print(f'Train data shape: {X_train_cvec.shape}')\n",
    "print(f'Test data shape: {X_test_cvec.shape}')\n",
    "\n",
    "# Initialize Multinomial Naive Bayes as the baseline model\n",
    "baseline_nb = MultinomialNB()\n",
    "\n",
    "# Fit the model\n",
    "baseline_nb_model = baseline_nb.fit(X_train_cvec, y_train)\n",
    "\n",
    "# Generate prediction\n",
    "y_pred_nb = baseline_nb.predict(X_test_cvec)\n",
    "\n",
    "# Score our model on the training set\n",
    "print(f'Train data accuracy score: {baseline_nb_model.score(X_train_cvec, y_train)}')\n",
    "print(f'Train data cross-validation score: {cross_val_score(baseline_nb, X_train_cvec,y_train, cv = 5).mean()}')\n",
    "print(f'Test score: {baseline_nb_model.score(X_test_cvec, y_test)}')"
   ]
  },
  {
   "cell_type": "markdown",
   "metadata": {},
   "source": [
    "### 3.3 AutoML with PyCaret\n",
    "\n",
    "- PyCaret requires an input in the format of a dataframe which includes the predictors and the response, therefore, a new train test split was created to suit the input requirements\n",
    "- Countvectorizer was used as the transformer before the data is fitted into the PyCaret"
   ]
  },
  {
   "cell_type": "markdown",
   "metadata": {},
   "source": [
    "#### 3.3.1 Data Preparation for PyCaret"
   ]
  },
  {
   "cell_type": "code",
   "execution_count": 8,
   "metadata": {},
   "outputs": [],
   "source": [
    "# Train test split for PyCaret\n",
    "W = main_df\n",
    "z = main_df['subreddit']\n",
    "\n",
    "# Split the data into the training and testing sets.\n",
    "W_train, W_test, z_train, z_test = train_test_split(W,\n",
    "                                                    z,\n",
    "                                                    test_size=0.2,\n",
    "                                                    stratify=y,\n",
    "                                                    random_state=42)\n",
    "\n",
    "W_train = W_train.reset_index(drop=True)\n",
    "\n",
    "# Transformer for PyCaret\n",
    "cvec = CountVectorizer(min_df=100)\n",
    "\n",
    "W_train_cvec = pd.DataFrame(\n",
    "                            cvec.fit_transform(W_train['post_snow_stemmed']).todense(),\n",
    "                            columns = cvec.get_feature_names()\n",
    "                            )\n",
    "\n",
    "W_test_cvec = pd.DataFrame(\n",
    "                            cvec.transform(W_test['post_snow_stemmed']).todense(),\n",
    "                            columns = cvec.get_feature_names()\n",
    "                            )\n",
    "print(f'Train data shape: {W_train_cvec.shape}')\n",
    "print(f'Train data shape: {W_test_cvec.shape}')\n",
    "\n",
    "# Add response variable back to the dataframe\n",
    "W_train_cvec['subreddit'] = W_train['subreddit']\n",
    "W_train_cvec.shape"
   ]
  },
  {
   "cell_type": "markdown",
   "metadata": {},
   "source": [
    "#### 3.3.2 PyCaret Initialization\n",
    "\n",
    "- Specify data and target"
   ]
  },
  {
   "cell_type": "code",
   "execution_count": 11,
   "metadata": {},
   "outputs": [
    {
     "data": {
      "text/html": [
       "<style type=\"text/css\">\n",
       "#T_794d9_row44_col1 {\n",
       "  background-color: lightgreen;\n",
       "}\n",
       "</style>\n",
       "<table id=\"T_794d9\">\n",
       "  <thead>\n",
       "    <tr>\n",
       "      <th class=\"blank level0\" >&nbsp;</th>\n",
       "      <th id=\"T_794d9_level0_col0\" class=\"col_heading level0 col0\" >Description</th>\n",
       "      <th id=\"T_794d9_level0_col1\" class=\"col_heading level0 col1\" >Value</th>\n",
       "    </tr>\n",
       "  </thead>\n",
       "  <tbody>\n",
       "    <tr>\n",
       "      <th id=\"T_794d9_level0_row0\" class=\"row_heading level0 row0\" >0</th>\n",
       "      <td id=\"T_794d9_row0_col0\" class=\"data row0 col0\" >session_id</td>\n",
       "      <td id=\"T_794d9_row0_col1\" class=\"data row0 col1\" >123</td>\n",
       "    </tr>\n",
       "    <tr>\n",
       "      <th id=\"T_794d9_level0_row1\" class=\"row_heading level0 row1\" >1</th>\n",
       "      <td id=\"T_794d9_row1_col0\" class=\"data row1 col0\" >Target</td>\n",
       "      <td id=\"T_794d9_row1_col1\" class=\"data row1 col1\" >subreddit</td>\n",
       "    </tr>\n",
       "    <tr>\n",
       "      <th id=\"T_794d9_level0_row2\" class=\"row_heading level0 row2\" >2</th>\n",
       "      <td id=\"T_794d9_row2_col0\" class=\"data row2 col0\" >Target Type</td>\n",
       "      <td id=\"T_794d9_row2_col1\" class=\"data row2 col1\" >Binary</td>\n",
       "    </tr>\n",
       "    <tr>\n",
       "      <th id=\"T_794d9_level0_row3\" class=\"row_heading level0 row3\" >3</th>\n",
       "      <td id=\"T_794d9_row3_col0\" class=\"data row3 col0\" >Label Encoded</td>\n",
       "      <td id=\"T_794d9_row3_col1\" class=\"data row3 col1\" >None</td>\n",
       "    </tr>\n",
       "    <tr>\n",
       "      <th id=\"T_794d9_level0_row4\" class=\"row_heading level0 row4\" >4</th>\n",
       "      <td id=\"T_794d9_row4_col0\" class=\"data row4 col0\" >Original Data</td>\n",
       "      <td id=\"T_794d9_row4_col1\" class=\"data row4 col1\" >(15392, 539)</td>\n",
       "    </tr>\n",
       "    <tr>\n",
       "      <th id=\"T_794d9_level0_row5\" class=\"row_heading level0 row5\" >5</th>\n",
       "      <td id=\"T_794d9_row5_col0\" class=\"data row5 col0\" >Missing Values</td>\n",
       "      <td id=\"T_794d9_row5_col1\" class=\"data row5 col1\" >False</td>\n",
       "    </tr>\n",
       "    <tr>\n",
       "      <th id=\"T_794d9_level0_row6\" class=\"row_heading level0 row6\" >6</th>\n",
       "      <td id=\"T_794d9_row6_col0\" class=\"data row6 col0\" >Numeric Features</td>\n",
       "      <td id=\"T_794d9_row6_col1\" class=\"data row6 col1\" >2</td>\n",
       "    </tr>\n",
       "    <tr>\n",
       "      <th id=\"T_794d9_level0_row7\" class=\"row_heading level0 row7\" >7</th>\n",
       "      <td id=\"T_794d9_row7_col0\" class=\"data row7 col0\" >Categorical Features</td>\n",
       "      <td id=\"T_794d9_row7_col1\" class=\"data row7 col1\" >536</td>\n",
       "    </tr>\n",
       "    <tr>\n",
       "      <th id=\"T_794d9_level0_row8\" class=\"row_heading level0 row8\" >8</th>\n",
       "      <td id=\"T_794d9_row8_col0\" class=\"data row8 col0\" >Ordinal Features</td>\n",
       "      <td id=\"T_794d9_row8_col1\" class=\"data row8 col1\" >False</td>\n",
       "    </tr>\n",
       "    <tr>\n",
       "      <th id=\"T_794d9_level0_row9\" class=\"row_heading level0 row9\" >9</th>\n",
       "      <td id=\"T_794d9_row9_col0\" class=\"data row9 col0\" >High Cardinality Features</td>\n",
       "      <td id=\"T_794d9_row9_col1\" class=\"data row9 col1\" >False</td>\n",
       "    </tr>\n",
       "    <tr>\n",
       "      <th id=\"T_794d9_level0_row10\" class=\"row_heading level0 row10\" >10</th>\n",
       "      <td id=\"T_794d9_row10_col0\" class=\"data row10 col0\" >High Cardinality Method</td>\n",
       "      <td id=\"T_794d9_row10_col1\" class=\"data row10 col1\" >None</td>\n",
       "    </tr>\n",
       "    <tr>\n",
       "      <th id=\"T_794d9_level0_row11\" class=\"row_heading level0 row11\" >11</th>\n",
       "      <td id=\"T_794d9_row11_col0\" class=\"data row11 col0\" >Transformed Train Set</td>\n",
       "      <td id=\"T_794d9_row11_col1\" class=\"data row11 col1\" >(10774, 2862)</td>\n",
       "    </tr>\n",
       "    <tr>\n",
       "      <th id=\"T_794d9_level0_row12\" class=\"row_heading level0 row12\" >12</th>\n",
       "      <td id=\"T_794d9_row12_col0\" class=\"data row12 col0\" >Transformed Test Set</td>\n",
       "      <td id=\"T_794d9_row12_col1\" class=\"data row12 col1\" >(4618, 2862)</td>\n",
       "    </tr>\n",
       "    <tr>\n",
       "      <th id=\"T_794d9_level0_row13\" class=\"row_heading level0 row13\" >13</th>\n",
       "      <td id=\"T_794d9_row13_col0\" class=\"data row13 col0\" >Shuffle Train-Test</td>\n",
       "      <td id=\"T_794d9_row13_col1\" class=\"data row13 col1\" >True</td>\n",
       "    </tr>\n",
       "    <tr>\n",
       "      <th id=\"T_794d9_level0_row14\" class=\"row_heading level0 row14\" >14</th>\n",
       "      <td id=\"T_794d9_row14_col0\" class=\"data row14 col0\" >Stratify Train-Test</td>\n",
       "      <td id=\"T_794d9_row14_col1\" class=\"data row14 col1\" >False</td>\n",
       "    </tr>\n",
       "    <tr>\n",
       "      <th id=\"T_794d9_level0_row15\" class=\"row_heading level0 row15\" >15</th>\n",
       "      <td id=\"T_794d9_row15_col0\" class=\"data row15 col0\" >Fold Generator</td>\n",
       "      <td id=\"T_794d9_row15_col1\" class=\"data row15 col1\" >StratifiedKFold</td>\n",
       "    </tr>\n",
       "    <tr>\n",
       "      <th id=\"T_794d9_level0_row16\" class=\"row_heading level0 row16\" >16</th>\n",
       "      <td id=\"T_794d9_row16_col0\" class=\"data row16 col0\" >Fold Number</td>\n",
       "      <td id=\"T_794d9_row16_col1\" class=\"data row16 col1\" >10</td>\n",
       "    </tr>\n",
       "    <tr>\n",
       "      <th id=\"T_794d9_level0_row17\" class=\"row_heading level0 row17\" >17</th>\n",
       "      <td id=\"T_794d9_row17_col0\" class=\"data row17 col0\" >CPU Jobs</td>\n",
       "      <td id=\"T_794d9_row17_col1\" class=\"data row17 col1\" >-1</td>\n",
       "    </tr>\n",
       "    <tr>\n",
       "      <th id=\"T_794d9_level0_row18\" class=\"row_heading level0 row18\" >18</th>\n",
       "      <td id=\"T_794d9_row18_col0\" class=\"data row18 col0\" >Use GPU</td>\n",
       "      <td id=\"T_794d9_row18_col1\" class=\"data row18 col1\" >False</td>\n",
       "    </tr>\n",
       "    <tr>\n",
       "      <th id=\"T_794d9_level0_row19\" class=\"row_heading level0 row19\" >19</th>\n",
       "      <td id=\"T_794d9_row19_col0\" class=\"data row19 col0\" >Log Experiment</td>\n",
       "      <td id=\"T_794d9_row19_col1\" class=\"data row19 col1\" >False</td>\n",
       "    </tr>\n",
       "    <tr>\n",
       "      <th id=\"T_794d9_level0_row20\" class=\"row_heading level0 row20\" >20</th>\n",
       "      <td id=\"T_794d9_row20_col0\" class=\"data row20 col0\" >Experiment Name</td>\n",
       "      <td id=\"T_794d9_row20_col1\" class=\"data row20 col1\" >clf-default-name</td>\n",
       "    </tr>\n",
       "    <tr>\n",
       "      <th id=\"T_794d9_level0_row21\" class=\"row_heading level0 row21\" >21</th>\n",
       "      <td id=\"T_794d9_row21_col0\" class=\"data row21 col0\" >USI</td>\n",
       "      <td id=\"T_794d9_row21_col1\" class=\"data row21 col1\" >0219</td>\n",
       "    </tr>\n",
       "    <tr>\n",
       "      <th id=\"T_794d9_level0_row22\" class=\"row_heading level0 row22\" >22</th>\n",
       "      <td id=\"T_794d9_row22_col0\" class=\"data row22 col0\" >Imputation Type</td>\n",
       "      <td id=\"T_794d9_row22_col1\" class=\"data row22 col1\" >simple</td>\n",
       "    </tr>\n",
       "    <tr>\n",
       "      <th id=\"T_794d9_level0_row23\" class=\"row_heading level0 row23\" >23</th>\n",
       "      <td id=\"T_794d9_row23_col0\" class=\"data row23 col0\" >Iterative Imputation Iteration</td>\n",
       "      <td id=\"T_794d9_row23_col1\" class=\"data row23 col1\" >None</td>\n",
       "    </tr>\n",
       "    <tr>\n",
       "      <th id=\"T_794d9_level0_row24\" class=\"row_heading level0 row24\" >24</th>\n",
       "      <td id=\"T_794d9_row24_col0\" class=\"data row24 col0\" >Numeric Imputer</td>\n",
       "      <td id=\"T_794d9_row24_col1\" class=\"data row24 col1\" >mean</td>\n",
       "    </tr>\n",
       "    <tr>\n",
       "      <th id=\"T_794d9_level0_row25\" class=\"row_heading level0 row25\" >25</th>\n",
       "      <td id=\"T_794d9_row25_col0\" class=\"data row25 col0\" >Iterative Imputation Numeric Model</td>\n",
       "      <td id=\"T_794d9_row25_col1\" class=\"data row25 col1\" >None</td>\n",
       "    </tr>\n",
       "    <tr>\n",
       "      <th id=\"T_794d9_level0_row26\" class=\"row_heading level0 row26\" >26</th>\n",
       "      <td id=\"T_794d9_row26_col0\" class=\"data row26 col0\" >Categorical Imputer</td>\n",
       "      <td id=\"T_794d9_row26_col1\" class=\"data row26 col1\" >constant</td>\n",
       "    </tr>\n",
       "    <tr>\n",
       "      <th id=\"T_794d9_level0_row27\" class=\"row_heading level0 row27\" >27</th>\n",
       "      <td id=\"T_794d9_row27_col0\" class=\"data row27 col0\" >Iterative Imputation Categorical Model</td>\n",
       "      <td id=\"T_794d9_row27_col1\" class=\"data row27 col1\" >None</td>\n",
       "    </tr>\n",
       "    <tr>\n",
       "      <th id=\"T_794d9_level0_row28\" class=\"row_heading level0 row28\" >28</th>\n",
       "      <td id=\"T_794d9_row28_col0\" class=\"data row28 col0\" >Unknown Categoricals Handling</td>\n",
       "      <td id=\"T_794d9_row28_col1\" class=\"data row28 col1\" >least_frequent</td>\n",
       "    </tr>\n",
       "    <tr>\n",
       "      <th id=\"T_794d9_level0_row29\" class=\"row_heading level0 row29\" >29</th>\n",
       "      <td id=\"T_794d9_row29_col0\" class=\"data row29 col0\" >Normalize</td>\n",
       "      <td id=\"T_794d9_row29_col1\" class=\"data row29 col1\" >False</td>\n",
       "    </tr>\n",
       "    <tr>\n",
       "      <th id=\"T_794d9_level0_row30\" class=\"row_heading level0 row30\" >30</th>\n",
       "      <td id=\"T_794d9_row30_col0\" class=\"data row30 col0\" >Normalize Method</td>\n",
       "      <td id=\"T_794d9_row30_col1\" class=\"data row30 col1\" >None</td>\n",
       "    </tr>\n",
       "    <tr>\n",
       "      <th id=\"T_794d9_level0_row31\" class=\"row_heading level0 row31\" >31</th>\n",
       "      <td id=\"T_794d9_row31_col0\" class=\"data row31 col0\" >Transformation</td>\n",
       "      <td id=\"T_794d9_row31_col1\" class=\"data row31 col1\" >False</td>\n",
       "    </tr>\n",
       "    <tr>\n",
       "      <th id=\"T_794d9_level0_row32\" class=\"row_heading level0 row32\" >32</th>\n",
       "      <td id=\"T_794d9_row32_col0\" class=\"data row32 col0\" >Transformation Method</td>\n",
       "      <td id=\"T_794d9_row32_col1\" class=\"data row32 col1\" >None</td>\n",
       "    </tr>\n",
       "    <tr>\n",
       "      <th id=\"T_794d9_level0_row33\" class=\"row_heading level0 row33\" >33</th>\n",
       "      <td id=\"T_794d9_row33_col0\" class=\"data row33 col0\" >PCA</td>\n",
       "      <td id=\"T_794d9_row33_col1\" class=\"data row33 col1\" >False</td>\n",
       "    </tr>\n",
       "    <tr>\n",
       "      <th id=\"T_794d9_level0_row34\" class=\"row_heading level0 row34\" >34</th>\n",
       "      <td id=\"T_794d9_row34_col0\" class=\"data row34 col0\" >PCA Method</td>\n",
       "      <td id=\"T_794d9_row34_col1\" class=\"data row34 col1\" >None</td>\n",
       "    </tr>\n",
       "    <tr>\n",
       "      <th id=\"T_794d9_level0_row35\" class=\"row_heading level0 row35\" >35</th>\n",
       "      <td id=\"T_794d9_row35_col0\" class=\"data row35 col0\" >PCA Components</td>\n",
       "      <td id=\"T_794d9_row35_col1\" class=\"data row35 col1\" >None</td>\n",
       "    </tr>\n",
       "    <tr>\n",
       "      <th id=\"T_794d9_level0_row36\" class=\"row_heading level0 row36\" >36</th>\n",
       "      <td id=\"T_794d9_row36_col0\" class=\"data row36 col0\" >Ignore Low Variance</td>\n",
       "      <td id=\"T_794d9_row36_col1\" class=\"data row36 col1\" >False</td>\n",
       "    </tr>\n",
       "    <tr>\n",
       "      <th id=\"T_794d9_level0_row37\" class=\"row_heading level0 row37\" >37</th>\n",
       "      <td id=\"T_794d9_row37_col0\" class=\"data row37 col0\" >Combine Rare Levels</td>\n",
       "      <td id=\"T_794d9_row37_col1\" class=\"data row37 col1\" >False</td>\n",
       "    </tr>\n",
       "    <tr>\n",
       "      <th id=\"T_794d9_level0_row38\" class=\"row_heading level0 row38\" >38</th>\n",
       "      <td id=\"T_794d9_row38_col0\" class=\"data row38 col0\" >Rare Level Threshold</td>\n",
       "      <td id=\"T_794d9_row38_col1\" class=\"data row38 col1\" >None</td>\n",
       "    </tr>\n",
       "    <tr>\n",
       "      <th id=\"T_794d9_level0_row39\" class=\"row_heading level0 row39\" >39</th>\n",
       "      <td id=\"T_794d9_row39_col0\" class=\"data row39 col0\" >Numeric Binning</td>\n",
       "      <td id=\"T_794d9_row39_col1\" class=\"data row39 col1\" >False</td>\n",
       "    </tr>\n",
       "    <tr>\n",
       "      <th id=\"T_794d9_level0_row40\" class=\"row_heading level0 row40\" >40</th>\n",
       "      <td id=\"T_794d9_row40_col0\" class=\"data row40 col0\" >Remove Outliers</td>\n",
       "      <td id=\"T_794d9_row40_col1\" class=\"data row40 col1\" >False</td>\n",
       "    </tr>\n",
       "    <tr>\n",
       "      <th id=\"T_794d9_level0_row41\" class=\"row_heading level0 row41\" >41</th>\n",
       "      <td id=\"T_794d9_row41_col0\" class=\"data row41 col0\" >Outliers Threshold</td>\n",
       "      <td id=\"T_794d9_row41_col1\" class=\"data row41 col1\" >None</td>\n",
       "    </tr>\n",
       "    <tr>\n",
       "      <th id=\"T_794d9_level0_row42\" class=\"row_heading level0 row42\" >42</th>\n",
       "      <td id=\"T_794d9_row42_col0\" class=\"data row42 col0\" >Remove Multicollinearity</td>\n",
       "      <td id=\"T_794d9_row42_col1\" class=\"data row42 col1\" >False</td>\n",
       "    </tr>\n",
       "    <tr>\n",
       "      <th id=\"T_794d9_level0_row43\" class=\"row_heading level0 row43\" >43</th>\n",
       "      <td id=\"T_794d9_row43_col0\" class=\"data row43 col0\" >Multicollinearity Threshold</td>\n",
       "      <td id=\"T_794d9_row43_col1\" class=\"data row43 col1\" >None</td>\n",
       "    </tr>\n",
       "    <tr>\n",
       "      <th id=\"T_794d9_level0_row44\" class=\"row_heading level0 row44\" >44</th>\n",
       "      <td id=\"T_794d9_row44_col0\" class=\"data row44 col0\" >Remove Perfect Collinearity</td>\n",
       "      <td id=\"T_794d9_row44_col1\" class=\"data row44 col1\" >True</td>\n",
       "    </tr>\n",
       "    <tr>\n",
       "      <th id=\"T_794d9_level0_row45\" class=\"row_heading level0 row45\" >45</th>\n",
       "      <td id=\"T_794d9_row45_col0\" class=\"data row45 col0\" >Clustering</td>\n",
       "      <td id=\"T_794d9_row45_col1\" class=\"data row45 col1\" >False</td>\n",
       "    </tr>\n",
       "    <tr>\n",
       "      <th id=\"T_794d9_level0_row46\" class=\"row_heading level0 row46\" >46</th>\n",
       "      <td id=\"T_794d9_row46_col0\" class=\"data row46 col0\" >Clustering Iteration</td>\n",
       "      <td id=\"T_794d9_row46_col1\" class=\"data row46 col1\" >None</td>\n",
       "    </tr>\n",
       "    <tr>\n",
       "      <th id=\"T_794d9_level0_row47\" class=\"row_heading level0 row47\" >47</th>\n",
       "      <td id=\"T_794d9_row47_col0\" class=\"data row47 col0\" >Polynomial Features</td>\n",
       "      <td id=\"T_794d9_row47_col1\" class=\"data row47 col1\" >False</td>\n",
       "    </tr>\n",
       "    <tr>\n",
       "      <th id=\"T_794d9_level0_row48\" class=\"row_heading level0 row48\" >48</th>\n",
       "      <td id=\"T_794d9_row48_col0\" class=\"data row48 col0\" >Polynomial Degree</td>\n",
       "      <td id=\"T_794d9_row48_col1\" class=\"data row48 col1\" >None</td>\n",
       "    </tr>\n",
       "    <tr>\n",
       "      <th id=\"T_794d9_level0_row49\" class=\"row_heading level0 row49\" >49</th>\n",
       "      <td id=\"T_794d9_row49_col0\" class=\"data row49 col0\" >Trignometry Features</td>\n",
       "      <td id=\"T_794d9_row49_col1\" class=\"data row49 col1\" >False</td>\n",
       "    </tr>\n",
       "    <tr>\n",
       "      <th id=\"T_794d9_level0_row50\" class=\"row_heading level0 row50\" >50</th>\n",
       "      <td id=\"T_794d9_row50_col0\" class=\"data row50 col0\" >Polynomial Threshold</td>\n",
       "      <td id=\"T_794d9_row50_col1\" class=\"data row50 col1\" >None</td>\n",
       "    </tr>\n",
       "    <tr>\n",
       "      <th id=\"T_794d9_level0_row51\" class=\"row_heading level0 row51\" >51</th>\n",
       "      <td id=\"T_794d9_row51_col0\" class=\"data row51 col0\" >Group Features</td>\n",
       "      <td id=\"T_794d9_row51_col1\" class=\"data row51 col1\" >False</td>\n",
       "    </tr>\n",
       "    <tr>\n",
       "      <th id=\"T_794d9_level0_row52\" class=\"row_heading level0 row52\" >52</th>\n",
       "      <td id=\"T_794d9_row52_col0\" class=\"data row52 col0\" >Feature Selection</td>\n",
       "      <td id=\"T_794d9_row52_col1\" class=\"data row52 col1\" >False</td>\n",
       "    </tr>\n",
       "    <tr>\n",
       "      <th id=\"T_794d9_level0_row53\" class=\"row_heading level0 row53\" >53</th>\n",
       "      <td id=\"T_794d9_row53_col0\" class=\"data row53 col0\" >Feature Selection Method</td>\n",
       "      <td id=\"T_794d9_row53_col1\" class=\"data row53 col1\" >classic</td>\n",
       "    </tr>\n",
       "    <tr>\n",
       "      <th id=\"T_794d9_level0_row54\" class=\"row_heading level0 row54\" >54</th>\n",
       "      <td id=\"T_794d9_row54_col0\" class=\"data row54 col0\" >Features Selection Threshold</td>\n",
       "      <td id=\"T_794d9_row54_col1\" class=\"data row54 col1\" >None</td>\n",
       "    </tr>\n",
       "    <tr>\n",
       "      <th id=\"T_794d9_level0_row55\" class=\"row_heading level0 row55\" >55</th>\n",
       "      <td id=\"T_794d9_row55_col0\" class=\"data row55 col0\" >Feature Interaction</td>\n",
       "      <td id=\"T_794d9_row55_col1\" class=\"data row55 col1\" >False</td>\n",
       "    </tr>\n",
       "    <tr>\n",
       "      <th id=\"T_794d9_level0_row56\" class=\"row_heading level0 row56\" >56</th>\n",
       "      <td id=\"T_794d9_row56_col0\" class=\"data row56 col0\" >Feature Ratio</td>\n",
       "      <td id=\"T_794d9_row56_col1\" class=\"data row56 col1\" >False</td>\n",
       "    </tr>\n",
       "    <tr>\n",
       "      <th id=\"T_794d9_level0_row57\" class=\"row_heading level0 row57\" >57</th>\n",
       "      <td id=\"T_794d9_row57_col0\" class=\"data row57 col0\" >Interaction Threshold</td>\n",
       "      <td id=\"T_794d9_row57_col1\" class=\"data row57 col1\" >None</td>\n",
       "    </tr>\n",
       "    <tr>\n",
       "      <th id=\"T_794d9_level0_row58\" class=\"row_heading level0 row58\" >58</th>\n",
       "      <td id=\"T_794d9_row58_col0\" class=\"data row58 col0\" >Fix Imbalance</td>\n",
       "      <td id=\"T_794d9_row58_col1\" class=\"data row58 col1\" >False</td>\n",
       "    </tr>\n",
       "    <tr>\n",
       "      <th id=\"T_794d9_level0_row59\" class=\"row_heading level0 row59\" >59</th>\n",
       "      <td id=\"T_794d9_row59_col0\" class=\"data row59 col0\" >Fix Imbalance Method</td>\n",
       "      <td id=\"T_794d9_row59_col1\" class=\"data row59 col1\" >SMOTE</td>\n",
       "    </tr>\n",
       "  </tbody>\n",
       "</table>\n"
      ],
      "text/plain": [
       "<pandas.io.formats.style.Styler at 0x19b58385ca0>"
      ]
     },
     "metadata": {},
     "output_type": "display_data"
    }
   ],
   "source": [
    "# Setup PyCaret\n",
    "s = setup(W_train_cvec, target = 'subreddit', session_id=123)"
   ]
  },
  {
   "cell_type": "markdown",
   "metadata": {},
   "source": [
    "#### 3.3.3 Execute PyCaret Model Comparison\n",
    "\n",
    "- The results shows Light Gradient Boosting Machine to be the highest performer.\n",
    "- However for interpretability, Logistic Regression and Multinomial Naive Bayes model were chosen for further hyperparameter tuning.\n",
    "- Random Forest Classifier was also selected for further hyperparameter tuning as required."
   ]
  },
  {
   "cell_type": "code",
   "execution_count": 12,
   "metadata": {},
   "outputs": [
    {
     "data": {
      "text/html": [
       "<style type=\"text/css\">\n",
       "#T_c5ae1 th {\n",
       "  text-align: left;\n",
       "}\n",
       "#T_c5ae1_row0_col0, #T_c5ae1_row0_col3, #T_c5ae1_row0_col4, #T_c5ae1_row1_col0, #T_c5ae1_row1_col1, #T_c5ae1_row1_col2, #T_c5ae1_row1_col3, #T_c5ae1_row1_col4, #T_c5ae1_row1_col5, #T_c5ae1_row1_col6, #T_c5ae1_row1_col7, #T_c5ae1_row2_col0, #T_c5ae1_row2_col1, #T_c5ae1_row2_col2, #T_c5ae1_row2_col3, #T_c5ae1_row2_col4, #T_c5ae1_row2_col5, #T_c5ae1_row2_col6, #T_c5ae1_row2_col7, #T_c5ae1_row3_col0, #T_c5ae1_row3_col1, #T_c5ae1_row3_col2, #T_c5ae1_row3_col3, #T_c5ae1_row3_col4, #T_c5ae1_row3_col5, #T_c5ae1_row3_col6, #T_c5ae1_row3_col7, #T_c5ae1_row4_col0, #T_c5ae1_row4_col1, #T_c5ae1_row4_col2, #T_c5ae1_row4_col3, #T_c5ae1_row4_col4, #T_c5ae1_row4_col5, #T_c5ae1_row4_col6, #T_c5ae1_row4_col7, #T_c5ae1_row5_col0, #T_c5ae1_row5_col1, #T_c5ae1_row5_col2, #T_c5ae1_row5_col3, #T_c5ae1_row5_col4, #T_c5ae1_row5_col5, #T_c5ae1_row5_col6, #T_c5ae1_row5_col7, #T_c5ae1_row6_col0, #T_c5ae1_row6_col1, #T_c5ae1_row6_col2, #T_c5ae1_row6_col4, #T_c5ae1_row6_col5, #T_c5ae1_row6_col6, #T_c5ae1_row6_col7, #T_c5ae1_row7_col0, #T_c5ae1_row7_col1, #T_c5ae1_row7_col2, #T_c5ae1_row7_col3, #T_c5ae1_row7_col4, #T_c5ae1_row7_col5, #T_c5ae1_row7_col6, #T_c5ae1_row7_col7, #T_c5ae1_row8_col0, #T_c5ae1_row8_col1, #T_c5ae1_row8_col2, #T_c5ae1_row8_col3, #T_c5ae1_row8_col4, #T_c5ae1_row8_col5, #T_c5ae1_row8_col6, #T_c5ae1_row8_col7, #T_c5ae1_row9_col0, #T_c5ae1_row9_col1, #T_c5ae1_row9_col2, #T_c5ae1_row9_col3, #T_c5ae1_row9_col4, #T_c5ae1_row9_col5, #T_c5ae1_row9_col6, #T_c5ae1_row9_col7, #T_c5ae1_row10_col0, #T_c5ae1_row10_col1, #T_c5ae1_row10_col2, #T_c5ae1_row10_col3, #T_c5ae1_row10_col4, #T_c5ae1_row10_col5, #T_c5ae1_row10_col6, #T_c5ae1_row10_col7, #T_c5ae1_row11_col0, #T_c5ae1_row11_col1, #T_c5ae1_row11_col2, #T_c5ae1_row11_col3, #T_c5ae1_row11_col5, #T_c5ae1_row11_col6, #T_c5ae1_row11_col7, #T_c5ae1_row12_col0, #T_c5ae1_row12_col1, #T_c5ae1_row12_col2, #T_c5ae1_row12_col3, #T_c5ae1_row12_col4, #T_c5ae1_row12_col5, #T_c5ae1_row12_col6, #T_c5ae1_row12_col7, #T_c5ae1_row13_col0, #T_c5ae1_row13_col1, #T_c5ae1_row13_col2, #T_c5ae1_row13_col3, #T_c5ae1_row13_col4, #T_c5ae1_row13_col5, #T_c5ae1_row13_col6, #T_c5ae1_row13_col7 {\n",
       "  text-align: left;\n",
       "}\n",
       "#T_c5ae1_row0_col1, #T_c5ae1_row0_col2, #T_c5ae1_row0_col5, #T_c5ae1_row0_col6, #T_c5ae1_row0_col7, #T_c5ae1_row6_col3, #T_c5ae1_row11_col4 {\n",
       "  text-align: left;\n",
       "  background-color: yellow;\n",
       "}\n",
       "#T_c5ae1_row0_col8, #T_c5ae1_row1_col8, #T_c5ae1_row2_col8, #T_c5ae1_row3_col8, #T_c5ae1_row4_col8, #T_c5ae1_row5_col8, #T_c5ae1_row6_col8, #T_c5ae1_row7_col8, #T_c5ae1_row8_col8, #T_c5ae1_row9_col8, #T_c5ae1_row10_col8, #T_c5ae1_row11_col8, #T_c5ae1_row12_col8 {\n",
       "  text-align: left;\n",
       "  background-color: lightgrey;\n",
       "}\n",
       "#T_c5ae1_row13_col8 {\n",
       "  text-align: left;\n",
       "  background-color: yellow;\n",
       "  background-color: lightgrey;\n",
       "}\n",
       "</style>\n",
       "<table id=\"T_c5ae1\">\n",
       "  <thead>\n",
       "    <tr>\n",
       "      <th class=\"blank level0\" >&nbsp;</th>\n",
       "      <th id=\"T_c5ae1_level0_col0\" class=\"col_heading level0 col0\" >Model</th>\n",
       "      <th id=\"T_c5ae1_level0_col1\" class=\"col_heading level0 col1\" >Accuracy</th>\n",
       "      <th id=\"T_c5ae1_level0_col2\" class=\"col_heading level0 col2\" >AUC</th>\n",
       "      <th id=\"T_c5ae1_level0_col3\" class=\"col_heading level0 col3\" >Recall</th>\n",
       "      <th id=\"T_c5ae1_level0_col4\" class=\"col_heading level0 col4\" >Prec.</th>\n",
       "      <th id=\"T_c5ae1_level0_col5\" class=\"col_heading level0 col5\" >F1</th>\n",
       "      <th id=\"T_c5ae1_level0_col6\" class=\"col_heading level0 col6\" >Kappa</th>\n",
       "      <th id=\"T_c5ae1_level0_col7\" class=\"col_heading level0 col7\" >MCC</th>\n",
       "      <th id=\"T_c5ae1_level0_col8\" class=\"col_heading level0 col8\" >TT (Sec)</th>\n",
       "    </tr>\n",
       "  </thead>\n",
       "  <tbody>\n",
       "    <tr>\n",
       "      <th id=\"T_c5ae1_level0_row0\" class=\"row_heading level0 row0\" >lightgbm</th>\n",
       "      <td id=\"T_c5ae1_row0_col0\" class=\"data row0 col0\" >Light Gradient Boosting Machine</td>\n",
       "      <td id=\"T_c5ae1_row0_col1\" class=\"data row0 col1\" >0.8743</td>\n",
       "      <td id=\"T_c5ae1_row0_col2\" class=\"data row0 col2\" >0.9615</td>\n",
       "      <td id=\"T_c5ae1_row0_col3\" class=\"data row0 col3\" >0.8465</td>\n",
       "      <td id=\"T_c5ae1_row0_col4\" class=\"data row0 col4\" >0.8949</td>\n",
       "      <td id=\"T_c5ae1_row0_col5\" class=\"data row0 col5\" >0.8698</td>\n",
       "      <td id=\"T_c5ae1_row0_col6\" class=\"data row0 col6\" >0.7485</td>\n",
       "      <td id=\"T_c5ae1_row0_col7\" class=\"data row0 col7\" >0.7499</td>\n",
       "      <td id=\"T_c5ae1_row0_col8\" class=\"data row0 col8\" >0.5920</td>\n",
       "    </tr>\n",
       "    <tr>\n",
       "      <th id=\"T_c5ae1_level0_row1\" class=\"row_heading level0 row1\" >rf</th>\n",
       "      <td id=\"T_c5ae1_row1_col0\" class=\"data row1 col0\" >Random Forest Classifier</td>\n",
       "      <td id=\"T_c5ae1_row1_col1\" class=\"data row1 col1\" >0.8705</td>\n",
       "      <td id=\"T_c5ae1_row1_col2\" class=\"data row1 col2\" >0.9517</td>\n",
       "      <td id=\"T_c5ae1_row1_col3\" class=\"data row1 col3\" >0.8601</td>\n",
       "      <td id=\"T_c5ae1_row1_col4\" class=\"data row1 col4\" >0.8769</td>\n",
       "      <td id=\"T_c5ae1_row1_col5\" class=\"data row1 col5\" >0.8683</td>\n",
       "      <td id=\"T_c5ae1_row1_col6\" class=\"data row1 col6\" >0.7410</td>\n",
       "      <td id=\"T_c5ae1_row1_col7\" class=\"data row1 col7\" >0.7413</td>\n",
       "      <td id=\"T_c5ae1_row1_col8\" class=\"data row1 col8\" >2.7920</td>\n",
       "    </tr>\n",
       "    <tr>\n",
       "      <th id=\"T_c5ae1_level0_row2\" class=\"row_heading level0 row2\" >lr</th>\n",
       "      <td id=\"T_c5ae1_row2_col0\" class=\"data row2 col0\" >Logistic Regression</td>\n",
       "      <td id=\"T_c5ae1_row2_col1\" class=\"data row2 col1\" >0.8688</td>\n",
       "      <td id=\"T_c5ae1_row2_col2\" class=\"data row2 col2\" >0.9574</td>\n",
       "      <td id=\"T_c5ae1_row2_col3\" class=\"data row2 col3\" >0.8523</td>\n",
       "      <td id=\"T_c5ae1_row2_col4\" class=\"data row2 col4\" >0.8799</td>\n",
       "      <td id=\"T_c5ae1_row2_col5\" class=\"data row2 col5\" >0.8657</td>\n",
       "      <td id=\"T_c5ae1_row2_col6\" class=\"data row2 col6\" >0.7374</td>\n",
       "      <td id=\"T_c5ae1_row2_col7\" class=\"data row2 col7\" >0.7380</td>\n",
       "      <td id=\"T_c5ae1_row2_col8\" class=\"data row2 col8\" >8.1480</td>\n",
       "    </tr>\n",
       "    <tr>\n",
       "      <th id=\"T_c5ae1_level0_row3\" class=\"row_heading level0 row3\" >et</th>\n",
       "      <td id=\"T_c5ae1_row3_col0\" class=\"data row3 col0\" >Extra Trees Classifier</td>\n",
       "      <td id=\"T_c5ae1_row3_col1\" class=\"data row3 col1\" >0.8655</td>\n",
       "      <td id=\"T_c5ae1_row3_col2\" class=\"data row3 col2\" >0.9324</td>\n",
       "      <td id=\"T_c5ae1_row3_col3\" class=\"data row3 col3\" >0.8489</td>\n",
       "      <td id=\"T_c5ae1_row3_col4\" class=\"data row3 col4\" >0.8765</td>\n",
       "      <td id=\"T_c5ae1_row3_col5\" class=\"data row3 col5\" >0.8623</td>\n",
       "      <td id=\"T_c5ae1_row3_col6\" class=\"data row3 col6\" >0.7309</td>\n",
       "      <td id=\"T_c5ae1_row3_col7\" class=\"data row3 col7\" >0.7315</td>\n",
       "      <td id=\"T_c5ae1_row3_col8\" class=\"data row3 col8\" >4.4500</td>\n",
       "    </tr>\n",
       "    <tr>\n",
       "      <th id=\"T_c5ae1_level0_row4\" class=\"row_heading level0 row4\" >dt</th>\n",
       "      <td id=\"T_c5ae1_row4_col0\" class=\"data row4 col0\" >Decision Tree Classifier</td>\n",
       "      <td id=\"T_c5ae1_row4_col1\" class=\"data row4 col1\" >0.8578</td>\n",
       "      <td id=\"T_c5ae1_row4_col2\" class=\"data row4 col2\" >0.8918</td>\n",
       "      <td id=\"T_c5ae1_row4_col3\" class=\"data row4 col3\" >0.8280</td>\n",
       "      <td id=\"T_c5ae1_row4_col4\" class=\"data row4 col4\" >0.8787</td>\n",
       "      <td id=\"T_c5ae1_row4_col5\" class=\"data row4 col5\" >0.8525</td>\n",
       "      <td id=\"T_c5ae1_row4_col6\" class=\"data row4 col6\" >0.7155</td>\n",
       "      <td id=\"T_c5ae1_row4_col7\" class=\"data row4 col7\" >0.7168</td>\n",
       "      <td id=\"T_c5ae1_row4_col8\" class=\"data row4 col8\" >1.3060</td>\n",
       "    </tr>\n",
       "    <tr>\n",
       "      <th id=\"T_c5ae1_level0_row5\" class=\"row_heading level0 row5\" >svm</th>\n",
       "      <td id=\"T_c5ae1_row5_col0\" class=\"data row5 col0\" >SVM - Linear Kernel</td>\n",
       "      <td id=\"T_c5ae1_row5_col1\" class=\"data row5 col1\" >0.8517</td>\n",
       "      <td id=\"T_c5ae1_row5_col2\" class=\"data row5 col2\" >0.0000</td>\n",
       "      <td id=\"T_c5ae1_row5_col3\" class=\"data row5 col3\" >0.8990</td>\n",
       "      <td id=\"T_c5ae1_row5_col4\" class=\"data row5 col4\" >0.8354</td>\n",
       "      <td id=\"T_c5ae1_row5_col5\" class=\"data row5 col5\" >0.8579</td>\n",
       "      <td id=\"T_c5ae1_row5_col6\" class=\"data row5 col6\" >0.7036</td>\n",
       "      <td id=\"T_c5ae1_row5_col7\" class=\"data row5 col7\" >0.7227</td>\n",
       "      <td id=\"T_c5ae1_row5_col8\" class=\"data row5 col8\" >1.0380</td>\n",
       "    </tr>\n",
       "    <tr>\n",
       "      <th id=\"T_c5ae1_level0_row6\" class=\"row_heading level0 row6\" >gbc</th>\n",
       "      <td id=\"T_c5ae1_row6_col0\" class=\"data row6 col0\" >Gradient Boosting Classifier</td>\n",
       "      <td id=\"T_c5ae1_row6_col1\" class=\"data row6 col1\" >0.8415</td>\n",
       "      <td id=\"T_c5ae1_row6_col2\" class=\"data row6 col2\" >0.9422</td>\n",
       "      <td id=\"T_c5ae1_row6_col3\" class=\"data row6 col3\" >0.9897</td>\n",
       "      <td id=\"T_c5ae1_row6_col4\" class=\"data row6 col4\" >0.7621</td>\n",
       "      <td id=\"T_c5ae1_row6_col5\" class=\"data row6 col5\" >0.8611</td>\n",
       "      <td id=\"T_c5ae1_row6_col6\" class=\"data row6 col6\" >0.6836</td>\n",
       "      <td id=\"T_c5ae1_row6_col7\" class=\"data row6 col7\" >0.7157</td>\n",
       "      <td id=\"T_c5ae1_row6_col8\" class=\"data row6 col8\" >6.5520</td>\n",
       "    </tr>\n",
       "    <tr>\n",
       "      <th id=\"T_c5ae1_level0_row7\" class=\"row_heading level0 row7\" >ridge</th>\n",
       "      <td id=\"T_c5ae1_row7_col0\" class=\"data row7 col0\" >Ridge Classifier</td>\n",
       "      <td id=\"T_c5ae1_row7_col1\" class=\"data row7 col1\" >0.8285</td>\n",
       "      <td id=\"T_c5ae1_row7_col2\" class=\"data row7 col2\" >0.0000</td>\n",
       "      <td id=\"T_c5ae1_row7_col3\" class=\"data row7 col3\" >0.7679</td>\n",
       "      <td id=\"T_c5ae1_row7_col4\" class=\"data row7 col4\" >0.8712</td>\n",
       "      <td id=\"T_c5ae1_row7_col5\" class=\"data row7 col5\" >0.8162</td>\n",
       "      <td id=\"T_c5ae1_row7_col6\" class=\"data row7 col6\" >0.6566</td>\n",
       "      <td id=\"T_c5ae1_row7_col7\" class=\"data row7 col7\" >0.6613</td>\n",
       "      <td id=\"T_c5ae1_row7_col8\" class=\"data row7 col8\" >0.7360</td>\n",
       "    </tr>\n",
       "    <tr>\n",
       "      <th id=\"T_c5ae1_level0_row8\" class=\"row_heading level0 row8\" >ada</th>\n",
       "      <td id=\"T_c5ae1_row8_col0\" class=\"data row8 col0\" >Ada Boost Classifier</td>\n",
       "      <td id=\"T_c5ae1_row8_col1\" class=\"data row8 col1\" >0.8268</td>\n",
       "      <td id=\"T_c5ae1_row8_col2\" class=\"data row8 col2\" >0.9362</td>\n",
       "      <td id=\"T_c5ae1_row8_col3\" class=\"data row8 col3\" >0.9241</td>\n",
       "      <td id=\"T_c5ae1_row8_col4\" class=\"data row8 col4\" >0.7919</td>\n",
       "      <td id=\"T_c5ae1_row8_col5\" class=\"data row8 col5\" >0.8386</td>\n",
       "      <td id=\"T_c5ae1_row8_col6\" class=\"data row8 col6\" >0.6541</td>\n",
       "      <td id=\"T_c5ae1_row8_col7\" class=\"data row8 col7\" >0.6906</td>\n",
       "      <td id=\"T_c5ae1_row8_col8\" class=\"data row8 col8\" >1.7260</td>\n",
       "    </tr>\n",
       "    <tr>\n",
       "      <th id=\"T_c5ae1_level0_row9\" class=\"row_heading level0 row9\" >lda</th>\n",
       "      <td id=\"T_c5ae1_row9_col0\" class=\"data row9 col0\" >Linear Discriminant Analysis</td>\n",
       "      <td id=\"T_c5ae1_row9_col1\" class=\"data row9 col1\" >0.8081</td>\n",
       "      <td id=\"T_c5ae1_row9_col2\" class=\"data row9 col2\" >0.8764</td>\n",
       "      <td id=\"T_c5ae1_row9_col3\" class=\"data row9 col3\" >0.7579</td>\n",
       "      <td id=\"T_c5ae1_row9_col4\" class=\"data row9 col4\" >0.8400</td>\n",
       "      <td id=\"T_c5ae1_row9_col5\" class=\"data row9 col5\" >0.7968</td>\n",
       "      <td id=\"T_c5ae1_row9_col6\" class=\"data row9 col6\" >0.6160</td>\n",
       "      <td id=\"T_c5ae1_row9_col7\" class=\"data row9 col7\" >0.6190</td>\n",
       "      <td id=\"T_c5ae1_row9_col8\" class=\"data row9 col8\" >12.6880</td>\n",
       "    </tr>\n",
       "    <tr>\n",
       "      <th id=\"T_c5ae1_level0_row10\" class=\"row_heading level0 row10\" >knn</th>\n",
       "      <td id=\"T_c5ae1_row10_col0\" class=\"data row10 col0\" >K Neighbors Classifier</td>\n",
       "      <td id=\"T_c5ae1_row10_col1\" class=\"data row10 col1\" >0.7879</td>\n",
       "      <td id=\"T_c5ae1_row10_col2\" class=\"data row10 col2\" >0.8729</td>\n",
       "      <td id=\"T_c5ae1_row10_col3\" class=\"data row10 col3\" >0.7442</td>\n",
       "      <td id=\"T_c5ae1_row10_col4\" class=\"data row10 col4\" >0.8140</td>\n",
       "      <td id=\"T_c5ae1_row10_col5\" class=\"data row10 col5\" >0.7769</td>\n",
       "      <td id=\"T_c5ae1_row10_col6\" class=\"data row10 col6\" >0.5756</td>\n",
       "      <td id=\"T_c5ae1_row10_col7\" class=\"data row10 col7\" >0.5785</td>\n",
       "      <td id=\"T_c5ae1_row10_col8\" class=\"data row10 col8\" >29.7480</td>\n",
       "    </tr>\n",
       "    <tr>\n",
       "      <th id=\"T_c5ae1_level0_row11\" class=\"row_heading level0 row11\" >nb</th>\n",
       "      <td id=\"T_c5ae1_row11_col0\" class=\"data row11 col0\" >Naive Bayes</td>\n",
       "      <td id=\"T_c5ae1_row11_col1\" class=\"data row11 col1\" >0.7326</td>\n",
       "      <td id=\"T_c5ae1_row11_col2\" class=\"data row11 col2\" >0.8770</td>\n",
       "      <td id=\"T_c5ae1_row11_col3\" class=\"data row11 col3\" >0.4787</td>\n",
       "      <td id=\"T_c5ae1_row11_col4\" class=\"data row11 col4\" >0.9649</td>\n",
       "      <td id=\"T_c5ae1_row11_col5\" class=\"data row11 col5\" >0.6383</td>\n",
       "      <td id=\"T_c5ae1_row11_col6\" class=\"data row11 col6\" >0.4632</td>\n",
       "      <td id=\"T_c5ae1_row11_col7\" class=\"data row11 col7\" >0.5356</td>\n",
       "      <td id=\"T_c5ae1_row11_col8\" class=\"data row11 col8\" >1.4480</td>\n",
       "    </tr>\n",
       "    <tr>\n",
       "      <th id=\"T_c5ae1_level0_row12\" class=\"row_heading level0 row12\" >qda</th>\n",
       "      <td id=\"T_c5ae1_row12_col0\" class=\"data row12 col0\" >Quadratic Discriminant Analysis</td>\n",
       "      <td id=\"T_c5ae1_row12_col1\" class=\"data row12 col1\" >0.6274</td>\n",
       "      <td id=\"T_c5ae1_row12_col2\" class=\"data row12 col2\" >0.6249</td>\n",
       "      <td id=\"T_c5ae1_row12_col3\" class=\"data row12 col3\" >0.2730</td>\n",
       "      <td id=\"T_c5ae1_row12_col4\" class=\"data row12 col4\" >0.9248</td>\n",
       "      <td id=\"T_c5ae1_row12_col5\" class=\"data row12 col5\" >0.4182</td>\n",
       "      <td id=\"T_c5ae1_row12_col6\" class=\"data row12 col6\" >0.2510</td>\n",
       "      <td id=\"T_c5ae1_row12_col7\" class=\"data row12 col7\" >0.3529</td>\n",
       "      <td id=\"T_c5ae1_row12_col8\" class=\"data row12 col8\" >24.1260</td>\n",
       "    </tr>\n",
       "    <tr>\n",
       "      <th id=\"T_c5ae1_level0_row13\" class=\"row_heading level0 row13\" >dummy</th>\n",
       "      <td id=\"T_c5ae1_row13_col0\" class=\"data row13 col0\" >Dummy Classifier</td>\n",
       "      <td id=\"T_c5ae1_row13_col1\" class=\"data row13 col1\" >0.5036</td>\n",
       "      <td id=\"T_c5ae1_row13_col2\" class=\"data row13 col2\" >0.5000</td>\n",
       "      <td id=\"T_c5ae1_row13_col3\" class=\"data row13 col3\" >0.0000</td>\n",
       "      <td id=\"T_c5ae1_row13_col4\" class=\"data row13 col4\" >0.0000</td>\n",
       "      <td id=\"T_c5ae1_row13_col5\" class=\"data row13 col5\" >0.0000</td>\n",
       "      <td id=\"T_c5ae1_row13_col6\" class=\"data row13 col6\" >0.0000</td>\n",
       "      <td id=\"T_c5ae1_row13_col7\" class=\"data row13 col7\" >0.0000</td>\n",
       "      <td id=\"T_c5ae1_row13_col8\" class=\"data row13 col8\" >0.1180</td>\n",
       "    </tr>\n",
       "  </tbody>\n",
       "</table>\n"
      ],
      "text/plain": [
       "<pandas.io.formats.style.Styler at 0x19b57971070>"
      ]
     },
     "metadata": {},
     "output_type": "display_data"
    }
   ],
   "source": [
    "# Run PyCaret to compare model to get accuracy results\n",
    "best_model = compare_models(fold = 5)"
   ]
  },
  {
   "cell_type": "code",
   "execution_count": 13,
   "metadata": {},
   "outputs": [],
   "source": [
    "# Save data into a pkl file\n",
    "with open(f'./data/pycaret_cvec.pkl', 'wb') as f:\n",
    "    pickle.dump(best_model, f)"
   ]
  },
  {
   "cell_type": "markdown",
   "metadata": {},
   "source": [
    "### 3.4 Hyperparameter Tuning with GridSearch & Pipeline"
   ]
  },
  {
   "cell_type": "code",
   "execution_count": 5,
   "metadata": {},
   "outputs": [],
   "source": [
    "# Function to run GridSearchCV that returns the Gridsearch itself, as well as the relavent scores\n",
    "def gridsearch(estimator,params,cv,X_train,y_train,X_test,y_test):\n",
    "    gs = GridSearchCV(\n",
    "                        estimator, # What is the model we want to fit?\n",
    "                        params, # What is the dictionary of hyperparameters?\n",
    "                        cv=cv, # What number of folds in CV will we use?\n",
    "                        verbose=1,\n",
    "                        n_jobs=-1 # Use all CPU cores on your computer to speed up the fit\n",
    "                    )\n",
    "\n",
    "    gs.fit(X_train,y_train)\n",
    "    train_score =gs.best_score_\n",
    "    cv_score = cross_val_score(gs,X_train,y_train,cv=cv).mean()\n",
    "    test_score = gs.score(X_test,y_test)\n",
    "    score_dict = {'train_score':train_score,'cv_score':cv_score,'test_score':test_score}\n",
    "    print(f'Best parameter: {gs.best_params_}')\n",
    "    print(f'Best training score: {train_score}')\n",
    "    print(f'Cross Validation Score: {cv_score}')\n",
    "    print(f'Test score: {test_score}\\n')\n",
    "    return gs, score_dict\n",
    "\n",
    "\n",
    "                             "
   ]
  },
  {
   "cell_type": "code",
   "execution_count": 6,
   "metadata": {},
   "outputs": [],
   "source": [
    "# Initialize pipeline with the tuning parameters\n",
    "pipe_cvec_logr = Pipeline([\n",
    "    ('cvec', CountVectorizer()), \n",
    "    ('logr', LogisticRegression())\n",
    "])\n",
    "\n",
    "pipe_cvec_logr_params = {'cvec__min_df': [5,10,100],\n",
    "                         'cvec__ngram_range': [(1,1),(1,2),(2,2)],\n",
    "                 'logr__penalty': ['l1', 'l2'],\n",
    "                 'logr__C': [1,0.1,0.01],\n",
    "                 'logr__solver': ['liblinear']}\n",
    "\n",
    "\n",
    "pipe_tvec_logr = Pipeline([\n",
    "    ('tvec', TfidfVectorizer()), \n",
    "    ('logr', LogisticRegression()) \n",
    "])\n",
    "\n",
    "pipe_tvec_logr_params = {'tvec__min_df':  [5,10,100],\n",
    "                         'tvec__ngram_range':[(1,1),(1,2),(2,2)],\n",
    "                 'logr__penalty': ['l1', 'l2'],\n",
    "                 'logr__C': [1,0.1,0.01],\n",
    "                 'logr__solver': ['liblinear']}\n",
    "\n",
    "pipe_cvec_nb = Pipeline([\n",
    "    ('cvec', CountVectorizer()), \n",
    "    ('nb', MultinomialNB()) \n",
    "])\n",
    "\n",
    "pipe_cvec_nb_params = {'cvec__min_df':  [5,10,100],\n",
    "                         'cvec__ngram_range':[(1,1),(1,2),(2,2)],\n",
    "                 'nb__alpha': [0.1, 1, 10]}\n",
    "\n",
    "pipe_tvec_nb = Pipeline([\n",
    "    ('tvec', TfidfVectorizer()), \n",
    "    ('nb', MultinomialNB()) \n",
    "])\n",
    "\n",
    "pipe_tvec_nb_params = {'tvec__min_df':  [5,10,100],\n",
    "                         'tvec__ngram_range':[(1,1),(1,2),(2,2)],\n",
    "                 'nb__alpha': [0.1, 1, 10]}\n",
    "\n",
    "pipe_cvec_rf = Pipeline([\n",
    "    ('cvec', CountVectorizer()), \n",
    "    ('rf', RandomForestClassifier()) \n",
    "])\n",
    "\n",
    "pipe_cvec_rf_params = {'cvec__min_df':  [5,10,100],\n",
    "                         'cvec__ngram_range':[(1,1),(1,2),(2,2)],\n",
    "                       'rf__n_estimators': [100, 150],\n",
    "                        'rf__max_depth': [None, 1, 2,3]}\n",
    "\n",
    "pipe_tvec_rf = Pipeline([\n",
    "    ('tvec', TfidfVectorizer()), \n",
    "    ('rf', RandomForestClassifier()) \n",
    "])\n",
    "\n",
    "pipe_tvec_rf_params = {'tvec__min_df':  [5,10,100],\n",
    "                         'tvec__ngram_range':[(1,1),(1,2),(2,2)],\n",
    "                       'rf__n_estimators': [100, 150],\n",
    "                        'rf__max_depth': [None, 1, 2,3]}"
   ]
  },
  {
   "cell_type": "markdown",
   "metadata": {},
   "source": [
    "#### 3.4.1 Logistic Regression Model\n",
    "\n",
    "- **Unit change Interpretation for logistic regression**: A one-unit change in $x_i$ means that success is $e^{\\beta_i}$ times as likely.\n",
    "- The top features of both subreddit shows many of the superheroes found in itself.\n",
    "- Similar to the top words extracted in book 2, the word *batman* is a very significant indicator for the r/DC_Cinematic"
   ]
  },
  {
   "cell_type": "code",
   "execution_count": 7,
   "metadata": {},
   "outputs": [
    {
     "name": "stdout",
     "output_type": "stream",
     "text": [
      "Fitting 5 folds for each of 54 candidates, totalling 270 fits\n"
     ]
    },
    {
     "name": "stderr",
     "output_type": "stream",
     "text": [
      "[Parallel(n_jobs=-1)]: Using backend LokyBackend with 12 concurrent workers.\n",
      "[Parallel(n_jobs=-1)]: Done  26 tasks      | elapsed:    5.2s\n",
      "[Parallel(n_jobs=-1)]: Done 176 tasks      | elapsed:   22.1s\n",
      "[Parallel(n_jobs=-1)]: Done 270 out of 270 | elapsed:   30.6s finished\n"
     ]
    },
    {
     "name": "stdout",
     "output_type": "stream",
     "text": [
      "Fitting 5 folds for each of 54 candidates, totalling 270 fits\n"
     ]
    },
    {
     "name": "stderr",
     "output_type": "stream",
     "text": [
      "[Parallel(n_jobs=-1)]: Using backend LokyBackend with 12 concurrent workers.\n",
      "[Parallel(n_jobs=-1)]: Done  26 tasks      | elapsed:    1.5s\n",
      "[Parallel(n_jobs=-1)]: Done 176 tasks      | elapsed:   14.1s\n",
      "[Parallel(n_jobs=-1)]: Done 270 out of 270 | elapsed:   20.7s finished\n"
     ]
    },
    {
     "name": "stdout",
     "output_type": "stream",
     "text": [
      "Fitting 5 folds for each of 54 candidates, totalling 270 fits\n"
     ]
    },
    {
     "name": "stderr",
     "output_type": "stream",
     "text": [
      "[Parallel(n_jobs=-1)]: Using backend LokyBackend with 12 concurrent workers.\n",
      "[Parallel(n_jobs=-1)]: Done  26 tasks      | elapsed:    1.5s\n",
      "[Parallel(n_jobs=-1)]: Done 176 tasks      | elapsed:   14.1s\n",
      "[Parallel(n_jobs=-1)]: Done 270 out of 270 | elapsed:   20.7s finished\n"
     ]
    },
    {
     "name": "stdout",
     "output_type": "stream",
     "text": [
      "Fitting 5 folds for each of 54 candidates, totalling 270 fits\n"
     ]
    },
    {
     "name": "stderr",
     "output_type": "stream",
     "text": [
      "[Parallel(n_jobs=-1)]: Using backend LokyBackend with 12 concurrent workers.\n",
      "[Parallel(n_jobs=-1)]: Done  26 tasks      | elapsed:    1.4s\n",
      "[Parallel(n_jobs=-1)]: Done 176 tasks      | elapsed:   14.0s\n",
      "[Parallel(n_jobs=-1)]: Done 270 out of 270 | elapsed:   20.5s finished\n"
     ]
    },
    {
     "name": "stdout",
     "output_type": "stream",
     "text": [
      "Fitting 5 folds for each of 54 candidates, totalling 270 fits\n"
     ]
    },
    {
     "name": "stderr",
     "output_type": "stream",
     "text": [
      "[Parallel(n_jobs=-1)]: Using backend LokyBackend with 12 concurrent workers.\n",
      "[Parallel(n_jobs=-1)]: Done  26 tasks      | elapsed:    1.4s\n",
      "[Parallel(n_jobs=-1)]: Done 176 tasks      | elapsed:   13.9s\n",
      "[Parallel(n_jobs=-1)]: Done 270 out of 270 | elapsed:   20.4s finished\n"
     ]
    },
    {
     "name": "stdout",
     "output_type": "stream",
     "text": [
      "Fitting 5 folds for each of 54 candidates, totalling 270 fits\n"
     ]
    },
    {
     "name": "stderr",
     "output_type": "stream",
     "text": [
      "[Parallel(n_jobs=-1)]: Using backend LokyBackend with 12 concurrent workers.\n",
      "[Parallel(n_jobs=-1)]: Done  26 tasks      | elapsed:    1.4s\n",
      "[Parallel(n_jobs=-1)]: Done 176 tasks      | elapsed:   13.8s\n",
      "[Parallel(n_jobs=-1)]: Done 270 out of 270 | elapsed:   20.3s finished\n"
     ]
    },
    {
     "name": "stdout",
     "output_type": "stream",
     "text": [
      "Best parameter: {'cvec__min_df': 5, 'cvec__ngram_range': (1, 2), 'logr__C': 1, 'logr__penalty': 'l2', 'logr__solver': 'liblinear'}\n",
      "Best training score: 0.9107977050513645\n",
      "Cross Validation Score: 0.9107977050513645\n",
      "Test score: 0.914783060535204\n",
      "\n",
      "Fitting 5 folds for each of 54 candidates, totalling 270 fits\n"
     ]
    },
    {
     "name": "stderr",
     "output_type": "stream",
     "text": [
      "[Parallel(n_jobs=-1)]: Using backend LokyBackend with 12 concurrent workers.\n",
      "[Parallel(n_jobs=-1)]: Done  26 tasks      | elapsed:    2.9s\n",
      "[Parallel(n_jobs=-1)]: Done 176 tasks      | elapsed:   17.1s\n",
      "[Parallel(n_jobs=-1)]: Done 270 out of 270 | elapsed:   25.6s finished\n"
     ]
    },
    {
     "name": "stdout",
     "output_type": "stream",
     "text": [
      "Fitting 5 folds for each of 54 candidates, totalling 270 fits\n"
     ]
    },
    {
     "name": "stderr",
     "output_type": "stream",
     "text": [
      "[Parallel(n_jobs=-1)]: Using backend LokyBackend with 12 concurrent workers.\n",
      "[Parallel(n_jobs=-1)]: Done  26 tasks      | elapsed:    2.3s\n",
      "[Parallel(n_jobs=-1)]: Done 176 tasks      | elapsed:   13.6s\n",
      "[Parallel(n_jobs=-1)]: Done 270 out of 270 | elapsed:   20.3s finished\n"
     ]
    },
    {
     "name": "stdout",
     "output_type": "stream",
     "text": [
      "Fitting 5 folds for each of 54 candidates, totalling 270 fits\n"
     ]
    },
    {
     "name": "stderr",
     "output_type": "stream",
     "text": [
      "[Parallel(n_jobs=-1)]: Using backend LokyBackend with 12 concurrent workers.\n",
      "[Parallel(n_jobs=-1)]: Done  26 tasks      | elapsed:    2.3s\n",
      "[Parallel(n_jobs=-1)]: Done 176 tasks      | elapsed:   13.6s\n",
      "[Parallel(n_jobs=-1)]: Done 270 out of 270 | elapsed:   20.3s finished\n"
     ]
    },
    {
     "name": "stdout",
     "output_type": "stream",
     "text": [
      "Fitting 5 folds for each of 54 candidates, totalling 270 fits\n"
     ]
    },
    {
     "name": "stderr",
     "output_type": "stream",
     "text": [
      "[Parallel(n_jobs=-1)]: Using backend LokyBackend with 12 concurrent workers.\n",
      "[Parallel(n_jobs=-1)]: Done  26 tasks      | elapsed:    2.2s\n",
      "[Parallel(n_jobs=-1)]: Done 176 tasks      | elapsed:   13.3s\n",
      "[Parallel(n_jobs=-1)]: Done 270 out of 270 | elapsed:   19.8s finished\n"
     ]
    },
    {
     "name": "stdout",
     "output_type": "stream",
     "text": [
      "Fitting 5 folds for each of 54 candidates, totalling 270 fits\n"
     ]
    },
    {
     "name": "stderr",
     "output_type": "stream",
     "text": [
      "[Parallel(n_jobs=-1)]: Using backend LokyBackend with 12 concurrent workers.\n",
      "[Parallel(n_jobs=-1)]: Done  26 tasks      | elapsed:    2.2s\n",
      "[Parallel(n_jobs=-1)]: Done 176 tasks      | elapsed:   13.4s\n",
      "[Parallel(n_jobs=-1)]: Done 270 out of 270 | elapsed:   20.0s finished\n"
     ]
    },
    {
     "name": "stdout",
     "output_type": "stream",
     "text": [
      "Fitting 5 folds for each of 54 candidates, totalling 270 fits\n"
     ]
    },
    {
     "name": "stderr",
     "output_type": "stream",
     "text": [
      "[Parallel(n_jobs=-1)]: Using backend LokyBackend with 12 concurrent workers.\n",
      "[Parallel(n_jobs=-1)]: Done  26 tasks      | elapsed:    2.3s\n",
      "[Parallel(n_jobs=-1)]: Done 176 tasks      | elapsed:   13.4s\n",
      "[Parallel(n_jobs=-1)]: Done 270 out of 270 | elapsed:   20.0s finished\n"
     ]
    },
    {
     "name": "stdout",
     "output_type": "stream",
     "text": [
      "Best parameter: {'logr__C': 1, 'logr__penalty': 'l2', 'logr__solver': 'liblinear', 'tvec__min_df': 5, 'tvec__ngram_range': (1, 2)}\n",
      "Best training score: 0.9143062026374562\n",
      "Cross Validation Score: 0.9141112708635772\n",
      "Test score: 0.914783060535204\n",
      "\n"
     ]
    },
    {
     "data": {
      "image/png": "[encoded data removed]",
      "text/plain": [
       "<Figure size 1440x504 with 2 Axes>"
      ]
     },
     "metadata": {
      "needs_background": "light"
     },
     "output_type": "display_data"
    }
   ],
   "source": [
    "logr_gs_cvec, logr_gs_cvec_dict = gridsearch(pipe_cvec_logr,pipe_cvec_logr_params,5,X_train,y_train,X_test,y_test)\n",
    "logr_gs_tvec, logr_gs_tvec_dict = gridsearch(pipe_tvec_logr,pipe_tvec_logr_params,5,X_train,y_train,X_test,y_test)\n",
    "\n",
    "coefs = pd.DataFrame(logr_gs_tvec.best_estimator_.steps[1][1].coef_).T\n",
    "coefs.columns = ['coef']\n",
    "coefs['feature'] = logr_gs_tvec.best_estimator_.steps[0][1].get_feature_names()\n",
    "coefs = coefs[['feature','coef']]\n",
    "coefs = coefs.sort_values('coef', ascending=True)\n",
    "\n",
    "top_dc_coefs = coefs.head(15).reset_index(drop=True)\n",
    "top_marvel_coefs = coefs.tail(15).sort_values(by='coef', ascending=False).reset_index(drop=True)\n",
    "\n",
    "fig, axs = plt.subplots(1, 2, figsize=(20,7))\n",
    "axs[0].title.set_text('Top 15 Features Correlated with r/DC_Cinematic')\n",
    "axs[1].title.set_text('Top 15 Feature Correlated r/marvelstudios')\n",
    "# axs[0].yaxis.tick_right()\n",
    "sns.barplot(data = top_dc_coefs, x = 'coef',y='feature',ax = axs[0])\n",
    "sns.barplot(data = top_marvel_coefs, x = 'coef',y='feature',ax = axs[1])\n",
    "plt.show();"
   ]
  },
  {
   "cell_type": "markdown",
   "metadata": {},
   "source": [
    "#### 3.4.2 Multinominal Naive Bayes Model\n",
    "\n",
    "- Interpretion of Multinomial Naive Bayes Model Coefficient was done with reference to notes found in the following link: https://donernesto.github.io/blog/notes-on-multinomial-naive-bayes/\n",
    "\n",
    "Findings:\n",
    "- Interesting finding in the top features of subreddit r/DC_Cinematic:\n",
    "    - Most of the top 15 words are related to the character *batman*\n",
    "- The smallest <code>min_df</code> has the best results for both transformer.\n",
    "- <code>ngram_range=(1,2)</code> have the best results."
   ]
  },
  {
   "cell_type": "code",
   "execution_count": 8,
   "metadata": {},
   "outputs": [
    {
     "name": "stdout",
     "output_type": "stream",
     "text": [
      "Fitting 5 folds for each of 27 candidates, totalling 135 fits\n"
     ]
    },
    {
     "name": "stderr",
     "output_type": "stream",
     "text": [
      "[Parallel(n_jobs=-1)]: Using backend LokyBackend with 12 concurrent workers.\n",
      "[Parallel(n_jobs=-1)]: Done  26 tasks      | elapsed:    2.6s\n",
      "[Parallel(n_jobs=-1)]: Done 135 out of 135 | elapsed:   12.4s finished\n"
     ]
    },
    {
     "name": "stdout",
     "output_type": "stream",
     "text": [
      "Fitting 5 folds for each of 27 candidates, totalling 135 fits\n"
     ]
    },
    {
     "name": "stderr",
     "output_type": "stream",
     "text": [
      "[Parallel(n_jobs=-1)]: Using backend LokyBackend with 12 concurrent workers.\n",
      "[Parallel(n_jobs=-1)]: Done  26 tasks      | elapsed:    2.0s\n",
      "[Parallel(n_jobs=-1)]: Done 135 out of 135 | elapsed:    9.9s finished\n"
     ]
    },
    {
     "name": "stdout",
     "output_type": "stream",
     "text": [
      "Fitting 5 folds for each of 27 candidates, totalling 135 fits\n"
     ]
    },
    {
     "name": "stderr",
     "output_type": "stream",
     "text": [
      "[Parallel(n_jobs=-1)]: Using backend LokyBackend with 12 concurrent workers.\n",
      "[Parallel(n_jobs=-1)]: Done  26 tasks      | elapsed:    2.0s\n",
      "[Parallel(n_jobs=-1)]: Done 135 out of 135 | elapsed:    9.8s finished\n"
     ]
    },
    {
     "name": "stdout",
     "output_type": "stream",
     "text": [
      "Fitting 5 folds for each of 27 candidates, totalling 135 fits\n"
     ]
    },
    {
     "name": "stderr",
     "output_type": "stream",
     "text": [
      "[Parallel(n_jobs=-1)]: Using backend LokyBackend with 12 concurrent workers.\n",
      "[Parallel(n_jobs=-1)]: Done  26 tasks      | elapsed:    2.0s\n",
      "[Parallel(n_jobs=-1)]: Done 135 out of 135 | elapsed:    9.6s finished\n"
     ]
    },
    {
     "name": "stdout",
     "output_type": "stream",
     "text": [
      "Fitting 5 folds for each of 27 candidates, totalling 135 fits\n"
     ]
    },
    {
     "name": "stderr",
     "output_type": "stream",
     "text": [
      "[Parallel(n_jobs=-1)]: Using backend LokyBackend with 12 concurrent workers.\n",
      "[Parallel(n_jobs=-1)]: Done  26 tasks      | elapsed:    2.0s\n",
      "[Parallel(n_jobs=-1)]: Done 135 out of 135 | elapsed:    9.7s finished\n"
     ]
    },
    {
     "name": "stdout",
     "output_type": "stream",
     "text": [
      "Fitting 5 folds for each of 27 candidates, totalling 135 fits\n"
     ]
    },
    {
     "name": "stderr",
     "output_type": "stream",
     "text": [
      "[Parallel(n_jobs=-1)]: Using backend LokyBackend with 12 concurrent workers.\n",
      "[Parallel(n_jobs=-1)]: Done  26 tasks      | elapsed:    2.0s\n",
      "[Parallel(n_jobs=-1)]: Done 135 out of 135 | elapsed:    9.7s finished\n"
     ]
    },
    {
     "name": "stdout",
     "output_type": "stream",
     "text": [
      "Best parameter: {'cvec__min_df': 5, 'cvec__ngram_range': (1, 2), 'nb__alpha': 1}\n",
      "Best training score: 0.9124220098801731\n",
      "Cross Validation Score: 0.911967126867727\n",
      "Test score: 0.9163419069888282\n",
      "\n",
      "Fitting 5 folds for each of 27 candidates, totalling 135 fits\n"
     ]
    },
    {
     "name": "stderr",
     "output_type": "stream",
     "text": [
      "[Parallel(n_jobs=-1)]: Using backend LokyBackend with 12 concurrent workers.\n",
      "[Parallel(n_jobs=-1)]: Done  26 tasks      | elapsed:    2.8s\n",
      "[Parallel(n_jobs=-1)]: Done 135 out of 135 | elapsed:   12.4s finished\n"
     ]
    },
    {
     "name": "stdout",
     "output_type": "stream",
     "text": [
      "Fitting 5 folds for each of 27 candidates, totalling 135 fits\n"
     ]
    },
    {
     "name": "stderr",
     "output_type": "stream",
     "text": [
      "[Parallel(n_jobs=-1)]: Using backend LokyBackend with 12 concurrent workers.\n",
      "[Parallel(n_jobs=-1)]: Done  26 tasks      | elapsed:    2.3s\n",
      "[Parallel(n_jobs=-1)]: Done 135 out of 135 | elapsed:    9.9s finished\n"
     ]
    },
    {
     "name": "stdout",
     "output_type": "stream",
     "text": [
      "Fitting 5 folds for each of 27 candidates, totalling 135 fits\n"
     ]
    },
    {
     "name": "stderr",
     "output_type": "stream",
     "text": [
      "[Parallel(n_jobs=-1)]: Using backend LokyBackend with 12 concurrent workers.\n",
      "[Parallel(n_jobs=-1)]: Done  26 tasks      | elapsed:    2.2s\n",
      "[Parallel(n_jobs=-1)]: Done 135 out of 135 | elapsed:   10.0s finished\n"
     ]
    },
    {
     "name": "stdout",
     "output_type": "stream",
     "text": [
      "Fitting 5 folds for each of 27 candidates, totalling 135 fits\n"
     ]
    },
    {
     "name": "stderr",
     "output_type": "stream",
     "text": [
      "[Parallel(n_jobs=-1)]: Using backend LokyBackend with 12 concurrent workers.\n",
      "[Parallel(n_jobs=-1)]: Done  26 tasks      | elapsed:    2.2s\n",
      "[Parallel(n_jobs=-1)]: Done 135 out of 135 | elapsed:    9.7s finished\n"
     ]
    },
    {
     "name": "stdout",
     "output_type": "stream",
     "text": [
      "Fitting 5 folds for each of 27 candidates, totalling 135 fits\n"
     ]
    },
    {
     "name": "stderr",
     "output_type": "stream",
     "text": [
      "[Parallel(n_jobs=-1)]: Using backend LokyBackend with 12 concurrent workers.\n",
      "[Parallel(n_jobs=-1)]: Done  26 tasks      | elapsed:    2.2s\n",
      "[Parallel(n_jobs=-1)]: Done 135 out of 135 | elapsed:    9.9s finished\n"
     ]
    },
    {
     "name": "stdout",
     "output_type": "stream",
     "text": [
      "Fitting 5 folds for each of 27 candidates, totalling 135 fits\n"
     ]
    },
    {
     "name": "stderr",
     "output_type": "stream",
     "text": [
      "[Parallel(n_jobs=-1)]: Using backend LokyBackend with 12 concurrent workers.\n",
      "[Parallel(n_jobs=-1)]: Done  26 tasks      | elapsed:    2.2s\n",
      "[Parallel(n_jobs=-1)]: Done 135 out of 135 | elapsed:    9.9s finished\n"
     ]
    },
    {
     "name": "stdout",
     "output_type": "stream",
     "text": [
      "Best parameter: {'nb__alpha': 0.1, 'tvec__min_df': 5, 'tvec__ngram_range': (1, 2)}\n",
      "Best training score: 0.9137863001603221\n",
      "Cross Validation Score: 0.9135261800948428\n",
      "Test score: 0.9163419069888282\n",
      "\n"
     ]
    },
    {
     "data": {
      "image/png": "[encoded data removed]",
      "text/plain": [
       "<Figure size 1440x504 with 2 Axes>"
      ]
     },
     "metadata": {
      "needs_background": "light"
     },
     "output_type": "display_data"
    }
   ],
   "source": [
    "nb_gs_cvec, nb_gs_cvec_dict = gridsearch(pipe_cvec_nb,pipe_cvec_nb_params,5,X_train,y_train,X_test,y_test)\n",
    "nb_gs_tvec, nb_gs_tvec_dict = gridsearch(pipe_tvec_nb,pipe_tvec_nb_params,5,X_train,y_train,X_test,y_test)\n",
    "\n",
    "delta_log_prob = nb_gs_cvec.best_estimator_.steps[1][1].feature_log_prob_[1,:]- nb_gs_cvec.best_estimator_.steps[1][1].feature_log_prob_[0,:]\n",
    "\n",
    "top_features = pd.DataFrame(nb_gs_cvec.best_estimator_.steps[0][1].get_feature_names(),columns=['feature'])\n",
    "top_features['delta_log_prob'] = pd.DataFrame(delta_log_prob)\n",
    "marvel_top_feature = top_features.sort_values('delta_log_prob',ascending=False).head(15)\n",
    "dc_top_feature = top_features.sort_values('delta_log_prob',ascending=True).head(15)\n",
    "\n",
    "fig, axs = plt.subplots(1, 2, figsize=(20,7))\n",
    "axs[0].title.set_text('Most Important Feature in r/DC_Cinematic')\n",
    "axs[1].title.set_text('Most Important Feature r/marvelstudios')\n",
    "sns.barplot(data = dc_top_feature, x = 'delta_log_prob',y='feature',ax = axs[0])\n",
    "sns.barplot(data = marvel_top_feature, x = 'delta_log_prob',y='feature',ax = axs[1])\n",
    "plt.show();"
   ]
  },
  {
   "cell_type": "markdown",
   "metadata": {},
   "source": [
    "#### 3.4.3 Random Forest Classification Model\n",
    "\n",
    "Findings:\n",
    "- The smallest <code>min_df</code> has the best results for both transformer.\n",
    "- <code>ngram_range=(1,2)</code> have the best results.\n",
    "- <code>max_depth=None</code> has the best results."
   ]
  },
  {
   "cell_type": "code",
   "execution_count": 9,
   "metadata": {},
   "outputs": [
    {
     "name": "stdout",
     "output_type": "stream",
     "text": [
      "Fitting 5 folds for each of 72 candidates, totalling 360 fits\n"
     ]
    },
    {
     "name": "stderr",
     "output_type": "stream",
     "text": [
      "[Parallel(n_jobs=-1)]: Using backend LokyBackend with 12 concurrent workers.\n",
      "[Parallel(n_jobs=-1)]: Done  26 tasks      | elapsed:   10.8s\n",
      "[Parallel(n_jobs=-1)]: Done 176 tasks      | elapsed:  1.2min\n",
      "[Parallel(n_jobs=-1)]: Done 360 out of 360 | elapsed:  2.0min finished\n"
     ]
    },
    {
     "name": "stdout",
     "output_type": "stream",
     "text": [
      "Fitting 5 folds for each of 72 candidates, totalling 360 fits\n"
     ]
    },
    {
     "name": "stderr",
     "output_type": "stream",
     "text": [
      "[Parallel(n_jobs=-1)]: Using backend LokyBackend with 12 concurrent workers.\n",
      "[Parallel(n_jobs=-1)]: Done  26 tasks      | elapsed:    8.5s\n",
      "[Parallel(n_jobs=-1)]: Done 176 tasks      | elapsed:   52.1s\n",
      "[Parallel(n_jobs=-1)]: Done 360 out of 360 | elapsed:  1.5min finished\n"
     ]
    },
    {
     "name": "stdout",
     "output_type": "stream",
     "text": [
      "Fitting 5 folds for each of 72 candidates, totalling 360 fits\n"
     ]
    },
    {
     "name": "stderr",
     "output_type": "stream",
     "text": [
      "[Parallel(n_jobs=-1)]: Using backend LokyBackend with 12 concurrent workers.\n",
      "[Parallel(n_jobs=-1)]: Done  26 tasks      | elapsed:    8.1s\n",
      "[Parallel(n_jobs=-1)]: Done 176 tasks      | elapsed:   50.2s\n",
      "[Parallel(n_jobs=-1)]: Done 360 out of 360 | elapsed:  1.4min finished\n"
     ]
    },
    {
     "name": "stdout",
     "output_type": "stream",
     "text": [
      "Fitting 5 folds for each of 72 candidates, totalling 360 fits\n"
     ]
    },
    {
     "name": "stderr",
     "output_type": "stream",
     "text": [
      "[Parallel(n_jobs=-1)]: Using backend LokyBackend with 12 concurrent workers.\n",
      "[Parallel(n_jobs=-1)]: Done  26 tasks      | elapsed:    8.2s\n",
      "[Parallel(n_jobs=-1)]: Done 176 tasks      | elapsed:   50.0s\n",
      "[Parallel(n_jobs=-1)]: Done 360 out of 360 | elapsed:  1.4min finished\n"
     ]
    },
    {
     "name": "stdout",
     "output_type": "stream",
     "text": [
      "Fitting 5 folds for each of 72 candidates, totalling 360 fits\n"
     ]
    },
    {
     "name": "stderr",
     "output_type": "stream",
     "text": [
      "[Parallel(n_jobs=-1)]: Using backend LokyBackend with 12 concurrent workers.\n",
      "[Parallel(n_jobs=-1)]: Done  26 tasks      | elapsed:    8.2s\n",
      "[Parallel(n_jobs=-1)]: Done 176 tasks      | elapsed:   50.1s\n",
      "[Parallel(n_jobs=-1)]: Done 360 out of 360 | elapsed:  1.4min finished\n"
     ]
    },
    {
     "name": "stdout",
     "output_type": "stream",
     "text": [
      "Fitting 5 folds for each of 72 candidates, totalling 360 fits\n"
     ]
    },
    {
     "name": "stderr",
     "output_type": "stream",
     "text": [
      "[Parallel(n_jobs=-1)]: Using backend LokyBackend with 12 concurrent workers.\n",
      "[Parallel(n_jobs=-1)]: Done  26 tasks      | elapsed:    8.2s\n",
      "[Parallel(n_jobs=-1)]: Done 176 tasks      | elapsed:   49.8s\n",
      "[Parallel(n_jobs=-1)]: Done 360 out of 360 | elapsed:  1.4min finished\n"
     ]
    },
    {
     "name": "stdout",
     "output_type": "stream",
     "text": [
      "Best parameter: {'cvec__min_df': 5, 'cvec__ngram_range': (1, 1), 'rf__max_depth': None, 'rf__n_estimators': 150}\n",
      "Best training score: 0.9038462147212425\n",
      "Cross Validation Score: 0.9042359094420883\n",
      "Test score: 0.905429981813458\n",
      "\n",
      "Fitting 5 folds for each of 72 candidates, totalling 360 fits\n"
     ]
    },
    {
     "name": "stderr",
     "output_type": "stream",
     "text": [
      "[Parallel(n_jobs=-1)]: Using backend LokyBackend with 12 concurrent workers.\n",
      "[Parallel(n_jobs=-1)]: Done  26 tasks      | elapsed:   24.3s\n",
      "[Parallel(n_jobs=-1)]: Done 176 tasks      | elapsed:  1.5min\n",
      "[Parallel(n_jobs=-1)]: Done 360 out of 360 | elapsed:  1.9min finished\n"
     ]
    },
    {
     "name": "stdout",
     "output_type": "stream",
     "text": [
      "Fitting 5 folds for each of 72 candidates, totalling 360 fits\n"
     ]
    },
    {
     "name": "stderr",
     "output_type": "stream",
     "text": [
      "[Parallel(n_jobs=-1)]: Using backend LokyBackend with 12 concurrent workers.\n",
      "[Parallel(n_jobs=-1)]: Done  26 tasks      | elapsed:   16.7s\n",
      "[Parallel(n_jobs=-1)]: Done 176 tasks      | elapsed:  1.1min\n",
      "[Parallel(n_jobs=-1)]: Done 360 out of 360 | elapsed:  1.4min finished\n"
     ]
    },
    {
     "name": "stdout",
     "output_type": "stream",
     "text": [
      "Fitting 5 folds for each of 72 candidates, totalling 360 fits\n"
     ]
    },
    {
     "name": "stderr",
     "output_type": "stream",
     "text": [
      "[Parallel(n_jobs=-1)]: Using backend LokyBackend with 12 concurrent workers.\n",
      "[Parallel(n_jobs=-1)]: Done  26 tasks      | elapsed:   16.4s\n",
      "[Parallel(n_jobs=-1)]: Done 176 tasks      | elapsed:  1.1min\n",
      "[Parallel(n_jobs=-1)]: Done 360 out of 360 | elapsed:  1.4min finished\n"
     ]
    },
    {
     "name": "stdout",
     "output_type": "stream",
     "text": [
      "Fitting 5 folds for each of 72 candidates, totalling 360 fits\n"
     ]
    },
    {
     "name": "stderr",
     "output_type": "stream",
     "text": [
      "[Parallel(n_jobs=-1)]: Using backend LokyBackend with 12 concurrent workers.\n",
      "[Parallel(n_jobs=-1)]: Done  26 tasks      | elapsed:   16.5s\n",
      "[Parallel(n_jobs=-1)]: Done 176 tasks      | elapsed:  1.1min\n",
      "[Parallel(n_jobs=-1)]: Done 360 out of 360 | elapsed:  1.4min finished\n"
     ]
    },
    {
     "name": "stdout",
     "output_type": "stream",
     "text": [
      "Fitting 5 folds for each of 72 candidates, totalling 360 fits\n"
     ]
    },
    {
     "name": "stderr",
     "output_type": "stream",
     "text": [
      "[Parallel(n_jobs=-1)]: Using backend LokyBackend with 12 concurrent workers.\n",
      "[Parallel(n_jobs=-1)]: Done  26 tasks      | elapsed:   17.4s\n",
      "[Parallel(n_jobs=-1)]: Done 176 tasks      | elapsed:  1.1min\n",
      "[Parallel(n_jobs=-1)]: Done 360 out of 360 | elapsed:  1.5min finished\n"
     ]
    },
    {
     "name": "stdout",
     "output_type": "stream",
     "text": [
      "Fitting 5 folds for each of 72 candidates, totalling 360 fits\n"
     ]
    },
    {
     "name": "stderr",
     "output_type": "stream",
     "text": [
      "[Parallel(n_jobs=-1)]: Using backend LokyBackend with 12 concurrent workers.\n",
      "[Parallel(n_jobs=-1)]: Done  26 tasks      | elapsed:   16.7s\n",
      "[Parallel(n_jobs=-1)]: Done 176 tasks      | elapsed:  1.1min\n",
      "[Parallel(n_jobs=-1)]: Done 360 out of 360 | elapsed:  1.5min finished\n"
     ]
    },
    {
     "name": "stdout",
     "output_type": "stream",
     "text": [
      "Best parameter: {'rf__max_depth': None, 'rf__n_estimators': 100, 'tvec__min_df': 5, 'tvec__ngram_range': (1, 2)}\n",
      "Best training score: 0.9052104838980277\n",
      "Cross Validation Score: 0.9030012782307615\n",
      "Test score: 0.9059495972979995\n",
      "\n"
     ]
    }
   ],
   "source": [
    "rf_gs_cvec, rf_gs_cvec_dict = gridsearch(pipe_cvec_rf,pipe_cvec_rf_params,5,X_train,y_train,X_test,y_test)\n",
    "rf_gs_tvec, rf_gs_tvec_dict = gridsearch(pipe_tvec_rf,pipe_tvec_rf_params,5,X_train,y_train,X_test,y_test)\n"
   ]
  },
  {
   "cell_type": "markdown",
   "metadata": {},
   "source": [
    "#### 3.4.4 Save Trained model"
   ]
  },
  {
   "cell_type": "code",
   "execution_count": 10,
   "metadata": {},
   "outputs": [],
   "source": [
    "with open(f'./data/logr_gs_cvec.pkl', 'wb') as f:\n",
    "    pickle.dump(logr_gs_cvec, f)\n",
    "with open(f'./data/logr_gs_tvec.pkl', 'wb') as f:\n",
    "    pickle.dump(logr_gs_tvec, f)\n",
    "with open(f'./data/nb_gs_cvec.pkl', 'wb') as f:\n",
    "    pickle.dump(nb_gs_cvec, f)\n",
    "with open(f'./data/nb_gs_tvec.pkl', 'wb') as f:\n",
    "    pickle.dump(nb_gs_tvec, f)\n",
    "with open(f'./data/rf_gs_cvec.pkl', 'wb') as f:\n",
    "    pickle.dump(rf_gs_cvec, f)\n",
    "with open(f'./data/rf_gs_tvec.pkl', 'wb') as f:\n",
    "    pickle.dump(rf_gs_tvec, f)\n"
   ]
  },
  {
   "cell_type": "markdown",
   "metadata": {},
   "source": [
    "### 3.5 Model Comparison\n",
    "\n",
    "---\n",
    "\n",
    "- All 3 models perform very well with a score above 0.9"
   ]
  },
  {
   "cell_type": "code",
   "execution_count": 14,
   "metadata": {},
   "outputs": [
    {
     "data": {
      "text/html": [
       "<div>\n",
       "<style scoped>\n",
       "    .dataframe tbody tr th:only-of-type {\n",
       "        vertical-align: middle;\n",
       "    }\n",
       "\n",
       "    .dataframe tbody tr th {\n",
       "        vertical-align: top;\n",
       "    }\n",
       "\n",
       "    .dataframe thead th {\n",
       "        text-align: right;\n",
       "    }\n",
       "</style>\n",
       "<table border=\"1\" class=\"dataframe\">\n",
       "  <thead>\n",
       "    <tr style=\"text-align: right;\">\n",
       "      <th></th>\n",
       "      <th>train_score</th>\n",
       "      <th>cv_score</th>\n",
       "      <th>test_score</th>\n",
       "    </tr>\n",
       "  </thead>\n",
       "  <tbody>\n",
       "    <tr>\n",
       "      <th>logr_cvec</th>\n",
       "      <td>0.910798</td>\n",
       "      <td>0.910798</td>\n",
       "      <td>0.914783</td>\n",
       "    </tr>\n",
       "    <tr>\n",
       "      <th>logr_tvec</th>\n",
       "      <td>0.914306</td>\n",
       "      <td>0.914111</td>\n",
       "      <td>0.914783</td>\n",
       "    </tr>\n",
       "    <tr>\n",
       "      <th>nb_cvec</th>\n",
       "      <td>0.912422</td>\n",
       "      <td>0.911967</td>\n",
       "      <td>0.916342</td>\n",
       "    </tr>\n",
       "    <tr>\n",
       "      <th>nb_tvec</th>\n",
       "      <td>0.913786</td>\n",
       "      <td>0.913526</td>\n",
       "      <td>0.916342</td>\n",
       "    </tr>\n",
       "    <tr>\n",
       "      <th>rf_cvec</th>\n",
       "      <td>0.903846</td>\n",
       "      <td>0.904236</td>\n",
       "      <td>0.905430</td>\n",
       "    </tr>\n",
       "    <tr>\n",
       "      <th>rf_tvec</th>\n",
       "      <td>0.905210</td>\n",
       "      <td>0.903001</td>\n",
       "      <td>0.905950</td>\n",
       "    </tr>\n",
       "  </tbody>\n",
       "</table>\n",
       "</div>"
      ],
      "text/plain": [
       "           train_score  cv_score  test_score\n",
       "logr_cvec     0.910798  0.910798    0.914783\n",
       "logr_tvec     0.914306  0.914111    0.914783\n",
       "nb_cvec       0.912422  0.911967    0.916342\n",
       "nb_tvec       0.913786  0.913526    0.916342\n",
       "rf_cvec       0.903846  0.904236    0.905430\n",
       "rf_tvec       0.905210  0.903001    0.905950"
      ]
     },
     "execution_count": 14,
     "metadata": {},
     "output_type": "execute_result"
    }
   ],
   "source": [
    "# Consolidate all the scores into a dataframe\n",
    "model_score = []\n",
    "\n",
    "model_score.append(logr_gs_cvec_dict)\n",
    "model_score.append(logr_gs_tvec_dict)\n",
    "model_score.append(nb_gs_cvec_dict)\n",
    "model_score.append(nb_gs_tvec_dict)\n",
    "model_score.append(rf_gs_cvec_dict)\n",
    "model_score.append(rf_gs_tvec_dict)\n",
    "\n",
    "model_score_df = pd.DataFrame(model_score,columns=['train_score','cv_score','test_score'],index =['logr_cvec','logr_tvec','nb_cvec','nb_tvec','rf_cvec','rf_tvec'])\n",
    "model_score_df"
   ]
  },
  {
   "cell_type": "markdown",
   "metadata": {},
   "source": [
    "## 4.0 Findings and Production Model Recommendation\n",
    "\n",
    "---\n",
    "\n",
    "- The model performs better with low <code>min_df</code>, meaning that it performs better with more features.\n",
    "- Model from <code>GridSearchCV</code> are well fitted and was able to effectively classify post to *r/marvelstudios* & *r/DC_Cinematic*.\n",
    "- Both transfromer perform very similarly.\n",
    "- The model was able to out perform the baseline model.\n",
    "\n",
    "Production Model Recommendation: **Logistic Regression**\n",
    "\n",
    "- **Logistic regression model was recommended as the production model** for the following reasons:\n",
    "\n",
    "    1. The logistic regression model achieve a very high accuracy score.\n",
    "    \n",
    "    2. The top features reflect a diverse superhero character within each comic/movies, which is good as a generalize model.\n",
    "    3. Easier to interpret compared to random forest classification. \n",
    "    4. Naive Bayes model perform similarly well (slightly better as a matter of fact), but the model use the assumption of independence between words, which was clearly not the case as the most important features of r/DC_Cinematic was shown to be closely related to a single movie or character *batman*\n"
   ]
  },
  {
   "cell_type": "markdown",
   "metadata": {},
   "source": [
    "---\n",
    "\n",
    "# End of Book 3\n",
    "\n",
    "In the next book, we will continue by running sentiment analysis with HuggingFace."
   ]
  }
 ],
 "metadata": {
  "kernelspec": {
   "display_name": "Python 3.8.13 ('dsi-sg')",
   "language": "python",
   "name": "python3"
  },
  "language_info": {
   "codemirror_mode": {
    "name": "ipython",
    "version": 3
   },
   "file_extension": ".py",
   "mimetype": "text/x-python",
   "name": "python",
   "nbconvert_exporter": "python",
   "pygments_lexer": "ipython3",
   "version": "3.8.13"
  },
  "orig_nbformat": 4,
  "vscode": {
   "interpreter": {
    "hash": "7d452f5639774a1de3f4f2b50b423cd9c67dd8dafecf92231b4c0ef69d91043f"
   }
  }
 },
 "nbformat": 4,
 "nbformat_minor": 2
}
