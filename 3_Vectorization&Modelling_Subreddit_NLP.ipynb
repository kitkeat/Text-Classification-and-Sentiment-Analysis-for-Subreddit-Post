{
 "cells": [
  {
   "cell_type": "code",
   "execution_count": 1,
   "metadata": {},
   "outputs": [],
   "source": [
    "import pandas as pd\n",
    "import matplotlib.pyplot as plt\n",
    "import seaborn as sns\n",
    "from sklearn.feature_extraction.text import TfidfVectorizer\n",
    "from sklearn.model_selection import train_test_split, GridSearchCV\n",
    "from sklearn.naive_bayes import MultinomialNB\n",
    "from sklearn.metrics import confusion_matrix,ConfusionMatrixDisplay\n",
    "from sklearn.linear_model import LogisticRegression \n",
    "from sklearn.pipeline import Pipeline\n",
    "from sklearn.ensemble import RandomForestClassifier\n",
    "from transformers import pipeline\n",
    "from tqdm import tqdm"
   ]
  },
  {
   "cell_type": "code",
   "execution_count": 2,
   "metadata": {},
   "outputs": [
    {
     "data": {
      "text/plain": [
       "(19250, 11)"
      ]
     },
     "execution_count": 2,
     "metadata": {},
     "output_type": "execute_result"
    }
   ],
   "source": [
    "main_df = pd.read_csv('./data/main_data.csv')\n",
    "main_df.shape"
   ]
  },
  {
   "cell_type": "code",
   "execution_count": 3,
   "metadata": {},
   "outputs": [
    {
     "name": "stdout",
     "output_type": "stream",
     "text": [
      "<class 'pandas.core.frame.DataFrame'>\n",
      "RangeIndex: 19250 entries, 0 to 19249\n",
      "Data columns (total 11 columns):\n",
      " #   Column            Non-Null Count  Dtype \n",
      "---  ------            --------------  ----- \n",
      " 0   True              19250 non-null  int64 \n",
      " 1   index             19250 non-null  int64 \n",
      " 2   subreddit         19250 non-null  int64 \n",
      " 3   num_comments      19250 non-null  int64 \n",
      " 4   created_utc       19250 non-null  int64 \n",
      " 5   author            19250 non-null  object\n",
      " 6   title_word_count  19250 non-null  int64 \n",
      " 7   title_length      19250 non-null  int64 \n",
      " 8   post              19250 non-null  object\n",
      " 9   post_stemmed      19250 non-null  object\n",
      " 10  post_unstemmed    19250 non-null  object\n",
      "dtypes: int64(7), object(4)\n",
      "memory usage: 1.6+ MB\n"
     ]
    }
   ],
   "source": [
    "main_df.info()"
   ]
  },
  {
   "cell_type": "code",
   "execution_count": 4,
   "metadata": {},
   "outputs": [],
   "source": [
    "X = main_df['post_stemmed']\n",
    "y = main_df['subreddit']\n",
    "y.value_counts(normalize=True)\n",
    "\n",
    "# Split the data into the training and testing sets.\n",
    "X_train, X_test, y_train, y_test = train_test_split(X,\n",
    "                                                    y,\n",
    "                                                    test_size=0.2,\n",
    "                                                    stratify=y,\n",
    "                                                    random_state=42)"
   ]
  },
  {
   "cell_type": "code",
   "execution_count": 5,
   "metadata": {},
   "outputs": [
    {
     "name": "stdout",
     "output_type": "stream",
     "text": [
      "Train data shape: (15400, 6339)\n",
      "Train data shape: (3850, 6339)\n"
     ]
    }
   ],
   "source": [
    "tvec = TfidfVectorizer(min_df=3)\n",
    "\n",
    "# Fit X_train and X_test to tfid transformer and then concat both data into a single data frame\n",
    "X_train_tvec = pd.DataFrame(\n",
    "    tvec.fit_transform(X_train).todense(),\n",
    "    columns = tvec.get_feature_names()\n",
    ")\n",
    "print(f'Train data shape: {X_train_tvec.shape}')\n",
    "\n",
    "X_test_tvec = pd.DataFrame(\n",
    "    tvec.transform(X_test).todense(),\n",
    "    columns = tvec.get_feature_names()\n",
    ")\n",
    "print(f'Train data shape: {X_test_tvec.shape}')\n",
    "\n",
    "# combined_X_tvec = pd.concat([X_train_tvec, X_test_tvec])\n",
    "# print(f'Combined Train/Test data shape: {combined_X_tvec.shape}')\n",
    "# # Split the data back to train and test data with missing features from train/test\n",
    "# X_train_tvec = combined_X_tvec[0:len(X_train)]\n",
    "# X_test_tvec = combined_X_tvec[len(X_train):]\n",
    "# X_train_tvec = X_train_tvec.fillna(0)\n",
    "# X_test_tvec = X_test_tvec.fillna(0)"
   ]
  },
  {
   "cell_type": "markdown",
   "metadata": {},
   "source": [
    "# Modeling"
   ]
  },
  {
   "cell_type": "markdown",
   "metadata": {},
   "source": [
    "## GridSearch & Pipeline"
   ]
  },
  {
   "cell_type": "code",
   "execution_count": 12,
   "metadata": {},
   "outputs": [],
   "source": [
    "def gridsearch(estimator,params,cv,x_train,y_train,x_test,y_test):\n",
    "    gs = GridSearchCV(estimator, # What is the model we want to fit?\n",
    "                                params, # What is the dictionary of hyperparameters?\n",
    "                                cv=cv, # What number of folds in CV will we use?\n",
    "                                verbose=1,\n",
    "                                n_jobs=-1 # Use all CPU cores on your computer to speed up the fit\n",
    "                                )\n",
    "\n",
    "    gs.fit(x_train,y_train)\n",
    "    print(f'Best training score: {gs.best_score_}')\n",
    "    print(f'Best parameter: {gs.best_params_}')\n",
    "    print(f'Test Score: {gs.score(x_test, y_test)}')\n",
    "    y_pred = gs.predict(x_test)\n",
    "    cm = confusion_matrix(y_test, y_pred)\n",
    "    cm_df = pd.DataFrame(cm, columns=['pred DC_Cinematic', 'pred marvelstudio'], index=['actual DC_Cinematic', 'actual marvelstudio'])\n",
    "    disp = ConfusionMatrixDisplay(confusion_matrix=cm)\n",
    "    \n",
    "    disp.plot()\n",
    "    plt.show();\n",
    "    return gs, y_pred\n",
    "\n",
    "\n",
    "                             "
   ]
  },
  {
   "cell_type": "code",
   "execution_count": 13,
   "metadata": {},
   "outputs": [],
   "source": [
    "# Parameter initialization\n",
    "logr_params = {\n",
    "    'penalty':['l1','l2'],\n",
    "    'C' : [1,0.1,0.01],\n",
    "    'solver': ['liblinear']\n",
    "}\n",
    "\n",
    "knn_params = {\n",
    "    'n_neighbors': [5], #range(1, 51, 10),\n",
    "    'metric': ['euclidean', 'manhattan']\n",
    "}\n",
    "\n",
    "\n",
    "\n"
   ]
  },
  {
   "cell_type": "markdown",
   "metadata": {},
   "source": [
    "## Logistic Regression Model"
   ]
  },
  {
   "cell_type": "code",
   "execution_count": 11,
   "metadata": {},
   "outputs": [
    {
     "name": "stdout",
     "output_type": "stream",
     "text": [
      "Fitting 5 folds for each of 6 candidates, totalling 30 fits\n",
      "Best training score: 0.920085931470498\n",
      "Best parameter: {'C': 1, 'penalty': 'l2', 'solver': 'liblinear'}\n",
      "Test Score: 0.9227568270481145\n"
     ]
    },
    {
     "data": {
      "image/png": "[encoded data removed]",
      "text/plain": [
       "<Figure size 432x288 with 2 Axes>"
      ]
     },
     "metadata": {
      "needs_background": "light"
     },
     "output_type": "display_data"
    }
   ],
   "source": [
    "# logr = LogisticRegression(penalty = 'l1', C = 1,solver ='liblinear',random_state=42)\n",
    "\n",
    "# logr_model = logr.fit(X_train_tvec, y_train)\n",
    "\n",
    "# y_pred_logr = logr_model.predict(X_test_tvec)\n",
    "\n",
    "# print(f'Train data accuracy score: {logr.score(X_train_tvec, y_train)}')\n",
    "# print(f'Test data accuracy score: {logr.score(X_test_tvec, y_test)}')\n",
    "\n",
    "logr = LogisticRegression()\n",
    "logr_gs, y_pred_logr = gridsearch(logr,logr_params,5,X_train_tvec,y_train,X_test_tvec,y_test)"
   ]
  },
  {
   "cell_type": "markdown",
   "metadata": {},
   "source": [
    "Interpreting Logistic Regression Coefficient\n",
    "\n",
    "The logistic regression coefficient β associated with a predictor X is the expected change in log odds of having the outcome per unit change in X. So increasing the predictor by 1 unit (or going from 1 level to the next) multiplies the odds of having the outcome by expo(β)."
   ]
  },
  {
   "cell_type": "code",
   "execution_count": 83,
   "metadata": {},
   "outputs": [
    {
     "data": {
      "text/plain": [
       "<AxesSubplot:title={'center':'Most Important Feature (Marvel)'}, xlabel='logr_coefficient', ylabel='feature'>"
      ]
     },
     "execution_count": 83,
     "metadata": {},
     "output_type": "execute_result"
    },
    {
     "data": {
      "image/png": "[encoded data removed]",
      "text/plain": [
       "<Figure size 1440x504 with 2 Axes>"
      ]
     },
     "metadata": {
      "needs_background": "light"
     },
     "output_type": "display_data"
    }
   ],
   "source": [
    "logr_top_features = pd.DataFrame(X_train_tvec.columns,columns=['feature'])\n",
    "logr_top_features['logr_coefficient'] = pd.DataFrame(logr_gs.best_estimator_.coef_[0])\n",
    "marvel_logr_top_feature = logr_top_features.sort_values('logr_coefficient',ascending=False).head(20)\n",
    "dc_logr_top_feature = logr_top_features.sort_values('logr_coefficient',ascending=True).head(20)\n",
    "\n",
    "fig, axs = plt.subplots(1, 2, figsize=(20,7))\n",
    "axs[0].title.set_text('Most Important Feature (DC)')\n",
    "axs[1].title.set_text('Most Important Feature (Marvel)')\n",
    "# axs[0].yaxis.tick_right()\n",
    "sns.barplot(data = dc_logr_top_feature, x = 'logr_coefficient',y='feature',ax = axs[0])\n",
    "sns.barplot(data = marvel_logr_top_feature, x = 'logr_coefficient',y='feature',ax = axs[1])"
   ]
  },
  {
   "cell_type": "markdown",
   "metadata": {},
   "source": [
    "## K-Nearest Neighbor Model"
   ]
  },
  {
   "cell_type": "code",
   "execution_count": 38,
   "metadata": {},
   "outputs": [
    {
     "name": "stdout",
     "output_type": "stream",
     "text": [
      "Fitting 5 folds for each of 2 candidates, totalling 10 fits\n"
     ]
    },
    {
     "name": "stderr",
     "output_type": "stream",
     "text": [
      "[Parallel(n_jobs=-1)]: Using backend LokyBackend with 4 concurrent workers.\n",
      "[Parallel(n_jobs=-1)]: Done  10 out of  10 | elapsed: 35.1min finished\n"
     ]
    },
    {
     "name": "stdout",
     "output_type": "stream",
     "text": [
      "Best training score: 0.6329407000962076\n",
      "Best parameter: {'metric': 'euclidean', 'n_neighbors': 5}\n",
      "Test Score: 0.6504551365409623\n"
     ]
    },
    {
     "data": {
      "image/png": "[encoded data removed]",
      "text/plain": [
       "<Figure size 432x288 with 2 Axes>"
      ]
     },
     "metadata": {
      "needs_background": "light"
     },
     "output_type": "display_data"
    }
   ],
   "source": [
    "# knn = KNeighborsClassifier(n_neighbors = 5, weights='distance')\n",
    "\n",
    "# knn_model = knn.fit(X_train_tvec,y_train)\n",
    "\n",
    "# y_pred_knn = knn_model.predict(X_test_tvec)\n",
    "\n",
    "# print(f'Train data accuracy score: {knn_model.score(X_train_tvec, y_train)}')\n",
    "# print(f'Test data accuracy score: {knn_model.score(X_test_tvec, y_test)}')\n",
    "\n",
    "# knn = KNeighborsClassifier()\n",
    "\n",
    "# knn_gs, y_pred_knn = gridsearch(knn,knn_params,5,X_train_tvec,y_train,X_test_tvec,y_test)"
   ]
  },
  {
   "cell_type": "markdown",
   "metadata": {},
   "source": [
    "## Multinominal Naive Bayes Model"
   ]
  },
  {
   "cell_type": "code",
   "execution_count": 9,
   "metadata": {},
   "outputs": [
    {
     "name": "stdout",
     "output_type": "stream",
     "text": [
      "Train data accuracy score: 0.9396579751609337\n",
      "Test data accuracy score: 0.9115734720416124\n"
     ]
    }
   ],
   "source": [
    "nb = MultinomialNB()\n",
    "# Fit our model!\n",
    "nb_model = nb.fit(X_train_tvec, y_train)\n",
    "# Generate our predictions!\n",
    "y_pred_nb = nb_model.predict(X_test_tvec)\n",
    "\n",
    "# Score our model on the training set.\n",
    "print(f'Train data accuracy score: {nb_model.score(X_train_tvec, y_train)}')\n",
    "\n",
    "# Score our model on the training set.\n",
    "print(f'Test data accuracy score: {nb_model.score(X_test_tvec, y_test)}')"
   ]
  },
  {
   "cell_type": "markdown",
   "metadata": {},
   "source": [
    "Interpreting Multinomial Naive Bayes Model Coefficient\n",
    "\n",
    "With reference to notes found in the following link: https://donernesto.github.io/blog/notes-on-multinomial-naive-bayes/"
   ]
  },
  {
   "cell_type": "code",
   "execution_count": 57,
   "metadata": {},
   "outputs": [
    {
     "data": {
      "text/plain": [
       "<AxesSubplot:title={'center':'Most Important Feature (Marvel)'}, xlabel='delta_log_prob', ylabel='feature'>"
      ]
     },
     "execution_count": 57,
     "metadata": {},
     "output_type": "execute_result"
    },
    {
     "data": {
      "image/png": "[encoded data removed]",
      "text/plain": [
       "<Figure size 1440x504 with 2 Axes>"
      ]
     },
     "metadata": {
      "needs_background": "light"
     },
     "output_type": "display_data"
    }
   ],
   "source": [
    "# log probability of features for class 0\n",
    "nb.feature_log_prob_[0,:]\n",
    "\n",
    "# log probability of features for class 1\n",
    "nb.feature_log_prob_[1,:]\n",
    "\n",
    "# By getting the delta of probability for each individual features, we are able to identify the features that are most important to each classes\n",
    "# Positive value means it is important for class 1 and negative value is for class 0\n",
    "delta_log_prob = nb.feature_log_prob_[1,:] - nb.feature_log_prob_[0,:]\n",
    "\n",
    "# New dataframe to match the delta log prob with the features\n",
    "top_features = pd.DataFrame(X_train_tvec.columns,columns=['feature'])\n",
    "top_features['delta_log_prob'] = pd.DataFrame(delta_log_prob)\n",
    "marvel_top_feature = top_features.sort_values('delta_log_prob',ascending=False).head(20)\n",
    "dc_top_feature = top_features.sort_values('delta_log_prob',ascending=True).head(20)\n",
    "\n",
    "fig, axs = plt.subplots(1, 2, figsize=(20,7))\n",
    "axs[0].title.set_text('Most Important Feature (DC)')\n",
    "axs[1].title.set_text('Most Important Feature (Marvel)')\n",
    "sns.barplot(data = dc_top_feature, x = 'delta_log_prob',y='feature',ax = axs[0])\n",
    "sns.barplot(data = marvel_top_feature, x = 'delta_log_prob',y='feature',ax = axs[1])"
   ]
  },
  {
   "cell_type": "markdown",
   "metadata": {},
   "source": [
    "## Random Forest Classification Model"
   ]
  },
  {
   "cell_type": "code",
   "execution_count": 12,
   "metadata": {},
   "outputs": [
    {
     "name": "stdout",
     "output_type": "stream",
     "text": [
      "0.9110474378085783\n"
     ]
    },
    {
     "data": {
      "text/plain": [
       "{'max_depth': None, 'n_estimators': 200}"
      ]
     },
     "execution_count": 12,
     "metadata": {},
     "output_type": "execute_result"
    }
   ],
   "source": [
    "rf = RandomForestClassifier() # The number of decision trees in the forest is 100 by default so does not need to be explicitly specified\n",
    "\n",
    "rf_params = {\n",
    "    'n_estimators': [100, 150, 200], # iterating over different number of trees in the forest\n",
    "    'max_depth': [None, 1, 2, 3], # iterating over a defined set of max depth of tree. For None, the nodes are expanded until all leaves are pure\n",
    "}\n",
    "gs = GridSearchCV(rf, param_grid=rf_params, cv=5)\n",
    "gs.fit(X_train_tvec, y_train)\n",
    "print(gs.best_score_)\n",
    "gs.best_params_"
   ]
  },
  {
   "cell_type": "markdown",
   "metadata": {},
   "source": [
    "## Hugging Face"
   ]
  },
  {
   "cell_type": "code",
   "execution_count": 14,
   "metadata": {},
   "outputs": [
    {
     "name": "stderr",
     "output_type": "stream",
     "text": [
      "emoji is not installed, thus not converting emoticons or emojis into text. Please install emoji: pip3 install emoji\n"
     ]
    }
   ],
   "source": [
    "# classifier = pipeline(\"zero-shot-classification\",\n",
    "#                       model=\"facebook/bart-large-mnli\")\n",
    "\n",
    "classifier = pipeline(\"sentiment-analysis\",\n",
    "                      model=\"finiteautomata/bertweet-base-sentiment-analysis\")"
   ]
  },
  {
   "cell_type": "code",
   "execution_count": 15,
   "metadata": {},
   "outputs": [
    {
     "data": {
      "text/html": [
       "<div>\n",
       "<style scoped>\n",
       "    .dataframe tbody tr th:only-of-type {\n",
       "        vertical-align: middle;\n",
       "    }\n",
       "\n",
       "    .dataframe tbody tr th {\n",
       "        vertical-align: top;\n",
       "    }\n",
       "\n",
       "    .dataframe thead th {\n",
       "        text-align: right;\n",
       "    }\n",
       "</style>\n",
       "<table border=\"1\" class=\"dataframe\">\n",
       "  <thead>\n",
       "    <tr style=\"text-align: right;\">\n",
       "      <th></th>\n",
       "      <th>label</th>\n",
       "      <th>score</th>\n",
       "      <th>post_unstemmed</th>\n",
       "    </tr>\n",
       "  </thead>\n",
       "  <tbody>\n",
       "    <tr>\n",
       "      <th>0</th>\n",
       "      <td>POS</td>\n",
       "      <td>0.924385</td>\n",
       "      <td>agree marvel movies two make top</td>\n",
       "    </tr>\n",
       "    <tr>\n",
       "      <th>1</th>\n",
       "      <td>NEU</td>\n",
       "      <td>0.938668</td>\n",
       "      <td>captain america fan film fight scene</td>\n",
       "    </tr>\n",
       "    <tr>\n",
       "      <th>2</th>\n",
       "      <td>NEU</td>\n",
       "      <td>0.969352</td>\n",
       "      <td>guy phd dr strange thought</td>\n",
       "    </tr>\n",
       "    <tr>\n",
       "      <th>3</th>\n",
       "      <td>POS</td>\n",
       "      <td>0.648603</td>\n",
       "      <td>top marvel movies agree</td>\n",
       "    </tr>\n",
       "    <tr>\n",
       "      <th>4</th>\n",
       "      <td>NEU</td>\n",
       "      <td>0.943673</td>\n",
       "      <td>spider man lotus controversy</td>\n",
       "    </tr>\n",
       "    <tr>\n",
       "      <th>...</th>\n",
       "      <td>...</td>\n",
       "      <td>...</td>\n",
       "      <td>...</td>\n",
       "    </tr>\n",
       "    <tr>\n",
       "      <th>19245</th>\n",
       "      <td>NEU</td>\n",
       "      <td>0.822718</td>\n",
       "      <td>apparently cyborg batfleck supposed camo peace...</td>\n",
       "    </tr>\n",
       "    <tr>\n",
       "      <th>19246</th>\n",
       "      <td>NEU</td>\n",
       "      <td>0.940822</td>\n",
       "      <td>watch theatrical justice league snyder cut rew...</td>\n",
       "    </tr>\n",
       "    <tr>\n",
       "      <th>19247</th>\n",
       "      <td>NEU</td>\n",
       "      <td>0.943281</td>\n",
       "      <td>since dwayne confident black adam fight superm...</td>\n",
       "    </tr>\n",
       "    <tr>\n",
       "      <th>19248</th>\n",
       "      <td>NEG</td>\n",
       "      <td>0.969725</td>\n",
       "      <td>sad batfleck cyborg robbed</td>\n",
       "    </tr>\n",
       "    <tr>\n",
       "      <th>19249</th>\n",
       "      <td>NEG</td>\n",
       "      <td>0.976708</td>\n",
       "      <td>anybody else pretty unsatisfied peacemaker alr...</td>\n",
       "    </tr>\n",
       "  </tbody>\n",
       "</table>\n",
       "<p>19250 rows × 3 columns</p>\n",
       "</div>"
      ],
      "text/plain": [
       "      label     score                                     post_unstemmed\n",
       "0       POS  0.924385                   agree marvel movies two make top\n",
       "1       NEU  0.938668               captain america fan film fight scene\n",
       "2       NEU  0.969352                         guy phd dr strange thought\n",
       "3       POS  0.648603                            top marvel movies agree\n",
       "4       NEU  0.943673                       spider man lotus controversy\n",
       "...     ...       ...                                                ...\n",
       "19245   NEU  0.822718  apparently cyborg batfleck supposed camo peace...\n",
       "19246   NEU  0.940822  watch theatrical justice league snyder cut rew...\n",
       "19247   NEU  0.943281  since dwayne confident black adam fight superm...\n",
       "19248   NEG  0.969725                         sad batfleck cyborg robbed\n",
       "19249   NEG  0.976708  anybody else pretty unsatisfied peacemaker alr...\n",
       "\n",
       "[19250 rows x 3 columns]"
      ]
     },
     "execution_count": 15,
     "metadata": {},
     "output_type": "execute_result"
    }
   ],
   "source": [
    "# df = main_df.sample(10)\n",
    "sequence_to_classify = list(main_df['post_unstemmed'])\n",
    "candidate_labels = ['dc','marvel']\n",
    "sentiment_result = classifier(sequence_to_classify,truncation = True)\n",
    "sentiment_df = pd.DataFrame(sentiment_result)\n",
    "sentiment_df['post_unstemmed'] =  main_df['post_unstemmed'].reset_index(drop=True)\n",
    "sentiment_df"
   ]
  },
  {
   "cell_type": "code",
   "execution_count": 16,
   "metadata": {},
   "outputs": [
    {
     "data": {
      "text/html": [
       "<div>\n",
       "<style scoped>\n",
       "    .dataframe tbody tr th:only-of-type {\n",
       "        vertical-align: middle;\n",
       "    }\n",
       "\n",
       "    .dataframe tbody tr th {\n",
       "        vertical-align: top;\n",
       "    }\n",
       "\n",
       "    .dataframe thead th {\n",
       "        text-align: right;\n",
       "    }\n",
       "</style>\n",
       "<table border=\"1\" class=\"dataframe\">\n",
       "  <thead>\n",
       "    <tr style=\"text-align: right;\">\n",
       "      <th></th>\n",
       "      <th>True</th>\n",
       "      <th>index</th>\n",
       "      <th>subreddit</th>\n",
       "      <th>num_comments</th>\n",
       "      <th>created_utc</th>\n",
       "      <th>author</th>\n",
       "      <th>title_word_count</th>\n",
       "      <th>title_length</th>\n",
       "      <th>post</th>\n",
       "      <th>post_stemmed</th>\n",
       "      <th>post_unstemmed</th>\n",
       "      <th>sentiment</th>\n",
       "      <th>sentiment_score</th>\n",
       "    </tr>\n",
       "  </thead>\n",
       "  <tbody>\n",
       "    <tr>\n",
       "      <th>0</th>\n",
       "      <td>0</td>\n",
       "      <td>0</td>\n",
       "      <td>1</td>\n",
       "      <td>0</td>\n",
       "      <td>1655815616</td>\n",
       "      <td>AlknA24</td>\n",
       "      <td>15</td>\n",
       "      <td>68</td>\n",
       "      <td>Can we agree that out of all the marvel movies...</td>\n",
       "      <td>agre marvel movi two make top</td>\n",
       "      <td>agree marvel movies two make top</td>\n",
       "      <td>POS</td>\n",
       "      <td>0.924385</td>\n",
       "    </tr>\n",
       "    <tr>\n",
       "      <th>1</th>\n",
       "      <td>1</td>\n",
       "      <td>1</td>\n",
       "      <td>1</td>\n",
       "      <td>0</td>\n",
       "      <td>1655815581</td>\n",
       "      <td>SteveHarrington2025</td>\n",
       "      <td>6</td>\n",
       "      <td>36</td>\n",
       "      <td>Captain America Fan Film Fight Scene</td>\n",
       "      <td>captain america fan film fight scene</td>\n",
       "      <td>captain america fan film fight scene</td>\n",
       "      <td>NEU</td>\n",
       "      <td>0.938668</td>\n",
       "    </tr>\n",
       "    <tr>\n",
       "      <th>2</th>\n",
       "      <td>2</td>\n",
       "      <td>2</td>\n",
       "      <td>1</td>\n",
       "      <td>0</td>\n",
       "      <td>1655814965</td>\n",
       "      <td>Jack-mclaughlin89</td>\n",
       "      <td>13</td>\n",
       "      <td>61</td>\n",
       "      <td>For a guy with a PHD, Dr Strange should have t...</td>\n",
       "      <td>guy phd dr strang thought</td>\n",
       "      <td>guy phd dr strange thought</td>\n",
       "      <td>NEU</td>\n",
       "      <td>0.969352</td>\n",
       "    </tr>\n",
       "    <tr>\n",
       "      <th>3</th>\n",
       "      <td>3</td>\n",
       "      <td>3</td>\n",
       "      <td>1</td>\n",
       "      <td>0</td>\n",
       "      <td>1655814697</td>\n",
       "      <td>AlknA24</td>\n",
       "      <td>9</td>\n",
       "      <td>38</td>\n",
       "      <td>My top 5 Marvel movies (5-1) - Agree ?</td>\n",
       "      <td>top marvel movi agre</td>\n",
       "      <td>top marvel movies agree</td>\n",
       "      <td>POS</td>\n",
       "      <td>0.648603</td>\n",
       "    </tr>\n",
       "    <tr>\n",
       "      <th>4</th>\n",
       "      <td>4</td>\n",
       "      <td>4</td>\n",
       "      <td>1</td>\n",
       "      <td>0</td>\n",
       "      <td>1655814645</td>\n",
       "      <td>Neil-patil</td>\n",
       "      <td>5</td>\n",
       "      <td>38</td>\n",
       "      <td>More on Spider-Man Lotus’ controversy.</td>\n",
       "      <td>spider man lotu controversi</td>\n",
       "      <td>spider man lotus controversy</td>\n",
       "      <td>NEU</td>\n",
       "      <td>0.943673</td>\n",
       "    </tr>\n",
       "    <tr>\n",
       "      <th>...</th>\n",
       "      <td>...</td>\n",
       "      <td>...</td>\n",
       "      <td>...</td>\n",
       "      <td>...</td>\n",
       "      <td>...</td>\n",
       "      <td>...</td>\n",
       "      <td>...</td>\n",
       "      <td>...</td>\n",
       "      <td>...</td>\n",
       "      <td>...</td>\n",
       "      <td>...</td>\n",
       "      <td>...</td>\n",
       "      <td>...</td>\n",
       "    </tr>\n",
       "    <tr>\n",
       "      <th>19245</th>\n",
       "      <td>19309</td>\n",
       "      <td>19985</td>\n",
       "      <td>0</td>\n",
       "      <td>2</td>\n",
       "      <td>1645293583</td>\n",
       "      <td>KeenBean1997</td>\n",
       "      <td>13</td>\n",
       "      <td>78</td>\n",
       "      <td>So, apparently Cyborg and Batfleck were suppos...</td>\n",
       "      <td>appar cyborg batfleck suppos camo peacemak</td>\n",
       "      <td>apparently cyborg batfleck supposed camo peace...</td>\n",
       "      <td>NEU</td>\n",
       "      <td>0.822718</td>\n",
       "    </tr>\n",
       "    <tr>\n",
       "      <th>19246</th>\n",
       "      <td>19310</td>\n",
       "      <td>19986</td>\n",
       "      <td>0</td>\n",
       "      <td>51</td>\n",
       "      <td>1645293472</td>\n",
       "      <td>Prestigious_Bonus322</td>\n",
       "      <td>11</td>\n",
       "      <td>63</td>\n",
       "      <td>Should I watch the theatrical justice league o...</td>\n",
       "      <td>watch theatric justic leagu snyder cut rewatch...</td>\n",
       "      <td>watch theatrical justice league snyder cut rew...</td>\n",
       "      <td>NEU</td>\n",
       "      <td>0.940822</td>\n",
       "    </tr>\n",
       "    <tr>\n",
       "      <th>19247</th>\n",
       "      <td>19311</td>\n",
       "      <td>19987</td>\n",
       "      <td>0</td>\n",
       "      <td>15</td>\n",
       "      <td>1645293170</td>\n",
       "      <td>697ox</td>\n",
       "      <td>14</td>\n",
       "      <td>84</td>\n",
       "      <td>Since Dwayne is confident that black Adam will...</td>\n",
       "      <td>sinc dwayn confid black adam fight superman co...</td>\n",
       "      <td>since dwayne confident black adam fight superm...</td>\n",
       "      <td>NEU</td>\n",
       "      <td>0.943281</td>\n",
       "    </tr>\n",
       "    <tr>\n",
       "      <th>19248</th>\n",
       "      <td>19312</td>\n",
       "      <td>19988</td>\n",
       "      <td>0</td>\n",
       "      <td>553</td>\n",
       "      <td>1645292628</td>\n",
       "      <td>acetrainer03</td>\n",
       "      <td>9</td>\n",
       "      <td>50</td>\n",
       "      <td>This is just sad. Batfleck and Cyborg were rob...</td>\n",
       "      <td>sad batfleck cyborg rob</td>\n",
       "      <td>sad batfleck cyborg robbed</td>\n",
       "      <td>NEG</td>\n",
       "      <td>0.969725</td>\n",
       "    </tr>\n",
       "    <tr>\n",
       "      <th>19249</th>\n",
       "      <td>19313</td>\n",
       "      <td>19989</td>\n",
       "      <td>0</td>\n",
       "      <td>31</td>\n",
       "      <td>1645291517</td>\n",
       "      <td>manamr</td>\n",
       "      <td>7</td>\n",
       "      <td>52</td>\n",
       "      <td>Was anybody else pretty unsatisfied with Peace...</td>\n",
       "      <td>anybodi els pretti unsatisfi peacemak alreadi ...</td>\n",
       "      <td>anybody else pretty unsatisfied peacemaker alr...</td>\n",
       "      <td>NEG</td>\n",
       "      <td>0.976708</td>\n",
       "    </tr>\n",
       "  </tbody>\n",
       "</table>\n",
       "<p>19250 rows × 13 columns</p>\n",
       "</div>"
      ],
      "text/plain": [
       "        True  index  subreddit  num_comments  created_utc  \\\n",
       "0          0      0          1             0   1655815616   \n",
       "1          1      1          1             0   1655815581   \n",
       "2          2      2          1             0   1655814965   \n",
       "3          3      3          1             0   1655814697   \n",
       "4          4      4          1             0   1655814645   \n",
       "...      ...    ...        ...           ...          ...   \n",
       "19245  19309  19985          0             2   1645293583   \n",
       "19246  19310  19986          0            51   1645293472   \n",
       "19247  19311  19987          0            15   1645293170   \n",
       "19248  19312  19988          0           553   1645292628   \n",
       "19249  19313  19989          0            31   1645291517   \n",
       "\n",
       "                     author  title_word_count  title_length  \\\n",
       "0                   AlknA24                15            68   \n",
       "1       SteveHarrington2025                 6            36   \n",
       "2         Jack-mclaughlin89                13            61   \n",
       "3                   AlknA24                 9            38   \n",
       "4                Neil-patil                 5            38   \n",
       "...                     ...               ...           ...   \n",
       "19245          KeenBean1997                13            78   \n",
       "19246  Prestigious_Bonus322                11            63   \n",
       "19247                 697ox                14            84   \n",
       "19248          acetrainer03                 9            50   \n",
       "19249                manamr                 7            52   \n",
       "\n",
       "                                                    post  \\\n",
       "0      Can we agree that out of all the marvel movies...   \n",
       "1                  Captain America Fan Film Fight Scene    \n",
       "2      For a guy with a PHD, Dr Strange should have t...   \n",
       "3                My top 5 Marvel movies (5-1) - Agree ?    \n",
       "4                More on Spider-Man Lotus’ controversy.    \n",
       "...                                                  ...   \n",
       "19245  So, apparently Cyborg and Batfleck were suppos...   \n",
       "19246  Should I watch the theatrical justice league o...   \n",
       "19247  Since Dwayne is confident that black Adam will...   \n",
       "19248  This is just sad. Batfleck and Cyborg were rob...   \n",
       "19249  Was anybody else pretty unsatisfied with Peace...   \n",
       "\n",
       "                                            post_stemmed  \\\n",
       "0                          agre marvel movi two make top   \n",
       "1                   captain america fan film fight scene   \n",
       "2                              guy phd dr strang thought   \n",
       "3                                   top marvel movi agre   \n",
       "4                            spider man lotu controversi   \n",
       "...                                                  ...   \n",
       "19245         appar cyborg batfleck suppos camo peacemak   \n",
       "19246  watch theatric justic leagu snyder cut rewatch...   \n",
       "19247  sinc dwayn confid black adam fight superman co...   \n",
       "19248                            sad batfleck cyborg rob   \n",
       "19249  anybodi els pretti unsatisfi peacemak alreadi ...   \n",
       "\n",
       "                                          post_unstemmed sentiment  \\\n",
       "0                       agree marvel movies two make top       POS   \n",
       "1                   captain america fan film fight scene       NEU   \n",
       "2                             guy phd dr strange thought       NEU   \n",
       "3                                top marvel movies agree       POS   \n",
       "4                           spider man lotus controversy       NEU   \n",
       "...                                                  ...       ...   \n",
       "19245  apparently cyborg batfleck supposed camo peace...       NEU   \n",
       "19246  watch theatrical justice league snyder cut rew...       NEU   \n",
       "19247  since dwayne confident black adam fight superm...       NEU   \n",
       "19248                         sad batfleck cyborg robbed       NEG   \n",
       "19249  anybody else pretty unsatisfied peacemaker alr...       NEG   \n",
       "\n",
       "       sentiment_score  \n",
       "0             0.924385  \n",
       "1             0.938668  \n",
       "2             0.969352  \n",
       "3             0.648603  \n",
       "4             0.943673  \n",
       "...                ...  \n",
       "19245         0.822718  \n",
       "19246         0.940822  \n",
       "19247         0.943281  \n",
       "19248         0.969725  \n",
       "19249         0.976708  \n",
       "\n",
       "[19250 rows x 13 columns]"
      ]
     },
     "execution_count": 16,
     "metadata": {},
     "output_type": "execute_result"
    }
   ],
   "source": [
    "main_df['sentiment'] = sentiment_df['label']\n",
    "main_df['sentiment_score'] = sentiment_df['score']\n",
    "main_df"
   ]
  },
  {
   "cell_type": "code",
   "execution_count": 17,
   "metadata": {},
   "outputs": [
    {
     "data": {
      "text/plain": [
       "<AxesSubplot:title={'center':'Sentiment Score (Marvel)'}, xlabel='sentiment', ylabel='Count'>"
      ]
     },
     "execution_count": 17,
     "metadata": {},
     "output_type": "execute_result"
    },
    {
     "data": {
      "image/png": "[encoded data removed]",
      "text/plain": [
       "<Figure size 1440x504 with 2 Axes>"
      ]
     },
     "metadata": {
      "needs_background": "light"
     },
     "output_type": "display_data"
    }
   ],
   "source": [
    "marvel_sentiment = main_df.loc[main_df['subreddit']==0,:]\n",
    "dc_sentiment = main_df.loc[main_df['subreddit']==1,:]\n",
    "fig, axs = plt.subplots(1, 2, figsize=(20,7))\n",
    "axs[0].title.set_text('Sentiment Score (DC)')\n",
    "axs[1].title.set_text('Sentiment Score (Marvel)')\n",
    "sns.histplot(data = dc_sentiment, x = 'sentiment',ax = axs[0])\n",
    "sns.histplot(data = marvel_sentiment, x = 'sentiment',ax = axs[1])"
   ]
  },
  {
   "cell_type": "code",
   "execution_count": 18,
   "metadata": {},
   "outputs": [],
   "source": [
    "pd.DataFrame.to_csv(main_df,'./data/sentiment_result.csv',index_label=True)"
   ]
  }
 ],
 "metadata": {
  "kernelspec": {
   "display_name": "Python 3.8.13 ('dsi-sg')",
   "language": "python",
   "name": "python3"
  },
  "language_info": {
   "codemirror_mode": {
    "name": "ipython",
    "version": 3
   },
   "file_extension": ".py",
   "mimetype": "text/x-python",
   "name": "python",
   "nbconvert_exporter": "python",
   "pygments_lexer": "ipython3",
   "version": "3.8.13"
  },
  "orig_nbformat": 4,
  "vscode": {
   "interpreter": {
    "hash": "9f8da1e1bd357d59a3b66de042951529b522660e89c8368a5e504d03fc911be3"
   }
  }
 },
 "nbformat": 4,
 "nbformat_minor": 2
}
